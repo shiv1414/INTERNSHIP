{
 "cells": [
  {
   "cell_type": "code",
   "execution_count": 2,
   "id": "1df9f199",
   "metadata": {},
   "outputs": [
    {
     "name": "stdout",
     "output_type": "stream",
     "text": [
      "Requirement already satisfied: selenium in c:\\users\\lenovo\\anaconda3\\lib\\site-packages (4.3.0)\n",
      "Requirement already satisfied: trio~=0.17 in c:\\users\\lenovo\\anaconda3\\lib\\site-packages (from selenium) (0.21.0)\n",
      "Requirement already satisfied: trio-websocket~=0.9 in c:\\users\\lenovo\\anaconda3\\lib\\site-packages (from selenium) (0.9.2)\n",
      "Requirement already satisfied: urllib3[secure,socks]~=1.26 in c:\\users\\lenovo\\anaconda3\\lib\\site-packages (from selenium) (1.26.7)\n",
      "Requirement already satisfied: outcome in c:\\users\\lenovo\\anaconda3\\lib\\site-packages (from trio~=0.17->selenium) (1.2.0)\n",
      "Requirement already satisfied: async-generator>=1.9 in c:\\users\\lenovo\\anaconda3\\lib\\site-packages (from trio~=0.17->selenium) (1.10)\n",
      "Requirement already satisfied: cffi>=1.14 in c:\\users\\lenovo\\anaconda3\\lib\\site-packages (from trio~=0.17->selenium) (1.14.6)\n",
      "Requirement already satisfied: sortedcontainers in c:\\users\\lenovo\\anaconda3\\lib\\site-packages (from trio~=0.17->selenium) (2.4.0)\n",
      "Requirement already satisfied: idna in c:\\users\\lenovo\\anaconda3\\lib\\site-packages (from trio~=0.17->selenium) (3.2)\n",
      "Requirement already satisfied: attrs>=19.2.0 in c:\\users\\lenovo\\anaconda3\\lib\\site-packages (from trio~=0.17->selenium) (21.2.0)\n",
      "Requirement already satisfied: sniffio in c:\\users\\lenovo\\anaconda3\\lib\\site-packages (from trio~=0.17->selenium) (1.2.0)\n",
      "Requirement already satisfied: pycparser in c:\\users\\lenovo\\anaconda3\\lib\\site-packages (from cffi>=1.14->trio~=0.17->selenium) (2.20)\n",
      "Requirement already satisfied: wsproto>=0.14 in c:\\users\\lenovo\\anaconda3\\lib\\site-packages (from trio-websocket~=0.9->selenium) (1.1.0)\n",
      "Requirement already satisfied: pyOpenSSL>=0.14 in c:\\users\\lenovo\\anaconda3\\lib\\site-packages (from urllib3[secure,socks]~=1.26->selenium) (21.0.0)\n",
      "Requirement already satisfied: cryptography>=1.3.4 in c:\\users\\lenovo\\anaconda3\\lib\\site-packages (from urllib3[secure,socks]~=1.26->selenium) (3.4.8)\n",
      "Requirement already satisfied: certifi in c:\\users\\lenovo\\anaconda3\\lib\\site-packages (from urllib3[secure,socks]~=1.26->selenium) (2021.10.8)\n",
      "Requirement already satisfied: PySocks!=1.5.7,<2.0,>=1.5.6 in c:\\users\\lenovo\\anaconda3\\lib\\site-packages (from urllib3[secure,socks]~=1.26->selenium) (1.7.1)\n",
      "Requirement already satisfied: six>=1.5.2 in c:\\users\\lenovo\\anaconda3\\lib\\site-packages (from pyOpenSSL>=0.14->urllib3[secure,socks]~=1.26->selenium) (1.16.0)\n",
      "Requirement already satisfied: h11<1,>=0.9.0 in c:\\users\\lenovo\\anaconda3\\lib\\site-packages (from wsproto>=0.14->trio-websocket~=0.9->selenium) (0.13.0)\n"
     ]
    }
   ],
   "source": [
    "!pip install selenium"
   ]
  },
  {
   "cell_type": "code",
   "execution_count": 3,
   "id": "e1780c8e",
   "metadata": {},
   "outputs": [],
   "source": [
    "import selenium\n",
    "from selenium import webdriver\n",
    "import pandas as pd\n",
    "from selenium.webdriver.common.by import By\n",
    "\n",
    "import warnings\n",
    "warnings.filterwarnings('ignore')"
   ]
  },
  {
   "cell_type": "markdown",
   "id": "05289422",
   "metadata": {},
   "source": [
    "# Q1: (Write a python program to scrape data for “Data Analyst” Job position in “Bangalore” location\n",
    "\n"
   ]
  },
  {
   "cell_type": "code",
   "execution_count": 4,
   "id": "3f57c781",
   "metadata": {},
   "outputs": [],
   "source": [
    "driver = webdriver.Chrome('chromedriver.exe')"
   ]
  },
  {
   "cell_type": "code",
   "execution_count": 53,
   "id": "ea3a42b7",
   "metadata": {},
   "outputs": [],
   "source": [
    "url = \"https://www.naukri.com/\"\n",
    "driver.get(url)"
   ]
  },
  {
   "cell_type": "code",
   "execution_count": 5,
   "id": "1b7f3f31",
   "metadata": {},
   "outputs": [
    {
     "data": {
      "text/plain": [
       "<selenium.webdriver.remote.webelement.WebElement (session=\"49e8382ea475c39e23890d763f500516\", element=\"e466f4c7-4ad7-460d-9eef-a7838d047513\")>"
      ]
     },
     "execution_count": 5,
     "metadata": {},
     "output_type": "execute_result"
    }
   ],
   "source": [
    "# finding web element for search job bar by using xpath\n",
    "search_des = driver.find_element(By.XPATH,\"/html/body/div[1]/div[2]/div[3]/div/div/div[1]/div/div/div/input\")\n",
    "search_des"
   ]
  },
  {
   "cell_type": "code",
   "execution_count": 6,
   "id": "b082e138",
   "metadata": {},
   "outputs": [],
   "source": [
    "# write on search bar\n",
    "search_des.send_keys(\"Data Analyst\")"
   ]
  },
  {
   "cell_type": "code",
   "execution_count": 7,
   "id": "b059c9cd",
   "metadata": {},
   "outputs": [
    {
     "data": {
      "text/plain": [
       "<selenium.webdriver.remote.webelement.WebElement (session=\"49e8382ea475c39e23890d763f500516\", element=\"22ef82ea-caa8-4685-98cf-bcd3cc68a4af\")>"
      ]
     },
     "execution_count": 7,
     "metadata": {},
     "output_type": "execute_result"
    }
   ],
   "source": [
    "# # finding web element for search location bar by using xpath\n",
    "\n",
    "search_loc = driver.find_element(By.XPATH,\"/html/body/div[1]/div[2]/div[3]/div/div/div[5]/div/div/div/input\")\n",
    "search_loc"
   ]
  },
  {
   "cell_type": "code",
   "execution_count": 8,
   "id": "1161cc4d",
   "metadata": {},
   "outputs": [],
   "source": [
    "search_loc.send_keys(\"Bangalore\")"
   ]
  },
  {
   "cell_type": "code",
   "execution_count": 9,
   "id": "120a270b",
   "metadata": {},
   "outputs": [
    {
     "data": {
      "text/plain": [
       "<selenium.webdriver.remote.webelement.WebElement (session=\"49e8382ea475c39e23890d763f500516\", element=\"348a8ed3-ad7f-4ea3-ad39-7b2f408d44d5\")>"
      ]
     },
     "execution_count": 9,
     "metadata": {},
     "output_type": "execute_result"
    }
   ],
   "source": [
    "# clicking using absolute xpath function\n",
    "\n",
    "search_btn = driver.find_element(By.XPATH,\"/html/body/div[1]/div[2]/div[3]/div/div/div[6]\")\n",
    "search_btn"
   ]
  },
  {
   "cell_type": "code",
   "execution_count": 10,
   "id": "78c5200e",
   "metadata": {},
   "outputs": [],
   "source": [
    "search_btn.click()"
   ]
  },
  {
   "cell_type": "code",
   "execution_count": 11,
   "id": "37ba1186",
   "metadata": {},
   "outputs": [
    {
     "data": {
      "text/plain": [
       "20"
      ]
     },
     "execution_count": 11,
     "metadata": {},
     "output_type": "execute_result"
    }
   ],
   "source": [
    "# extracting the job titles\n",
    "# lets extraxt all web elements having job titles\n",
    "\n",
    "title_tag = driver.find_elements(By.XPATH,'//a[@class=\"title fw500 ellipsis\"]')\n",
    "len(title_tag)"
   ]
  },
  {
   "cell_type": "code",
   "execution_count": 12,
   "id": "562ca353",
   "metadata": {
    "collapsed": true
   },
   "outputs": [
    {
     "data": {
      "text/plain": [
       "['Sr.Business Data Analyst',\n",
       " 'Hiring Data Analyst - Forensics, KPMG India',\n",
       " 'Financial Data Analyst',\n",
       " 'Senior Data Analyst II',\n",
       " 'Data Analyst - Python/Artificial Intelligence',\n",
       " 'Business Analyst / Data Analyst',\n",
       " 'Business Analyst/Data Analyst',\n",
       " 'Data Analyst',\n",
       " 'Senior Business Analyst, Data Analytics & Engineering-DATA Engineer',\n",
       " 'Software Technical Expert - Data Analyst',\n",
       " 'Big data analyst',\n",
       " 'Data Analyst',\n",
       " 'Reference Data Analyst',\n",
       " 'Data Analyst/Senior Data Analyst',\n",
       " 'Senior Data Analyst',\n",
       " 'Sales Data Analyst',\n",
       " 'Data Analyst - Marketplace',\n",
       " 'Hiring Data Analysts - Virtusa',\n",
       " 'Data Analyst 2',\n",
       " 'Clinical Data Analyst']"
      ]
     },
     "execution_count": 12,
     "metadata": {},
     "output_type": "execute_result"
    }
   ],
   "source": [
    "# now the text of job title is inside the web element exracted from above one tag\n",
    "\n",
    "job_title = []\n",
    "\n",
    "for i in title_tag:\n",
    "    job_title.append(i.text)\n",
    "    \n",
    "job_title"
   ]
  },
  {
   "cell_type": "code",
   "execution_count": 20,
   "id": "4b4a40a9",
   "metadata": {},
   "outputs": [
    {
     "data": {
      "text/plain": [
       "20"
      ]
     },
     "execution_count": 20,
     "metadata": {},
     "output_type": "execute_result"
    }
   ],
   "source": [
    "# extracting the JOB LOCATION\n",
    "# lets extraxt all web elements having LOCATION titles\n",
    "\n",
    "locn_tag = driver.find_elements(By.XPATH,'//li[@class=\"fleft grey-text br2 placeHolderLi location\"]')\n",
    "len(locn_tag)"
   ]
  },
  {
   "cell_type": "code",
   "execution_count": 21,
   "id": "5f93daf3",
   "metadata": {
    "collapsed": true
   },
   "outputs": [
    {
     "data": {
      "text/plain": [
       "['Bangalore/Bengaluru, karnataka\\n(WFH during Covid)',\n",
       " 'Bangalore/Bengaluru, Noida, Kolkata, Mumbai, Gurgaon/Gurugram, Delhi / NCR, Mumbai (All Areas)',\n",
       " 'Bangalore/Bengaluru',\n",
       " 'Bangalore/Bengaluru',\n",
       " 'Bangalore/Bengaluru, Kolkata, Mumbai, Hyderabad/Secunderabad, Pune, Chennai, Ahmedabad',\n",
       " 'Bangalore/Bengaluru, Mumbai, Hyderabad/Secunderabad, Pune, Chennai',\n",
       " 'Bangalore/Bengaluru, Mumbai, Hyderabad/Secunderabad, Pune, Chennai',\n",
       " 'Bangalore/Bengaluru, Hyderabad/Secunderabad',\n",
       " 'Bangalore/Bengaluru\\n(WFH during Covid)',\n",
       " 'Bangalore/Bengaluru',\n",
       " 'Bangalore/Bengaluru',\n",
       " 'Bangalore/Bengaluru',\n",
       " 'Bangalore/Bengaluru',\n",
       " 'Bangalore/Bengaluru',\n",
       " 'Bangalore/Bengaluru',\n",
       " 'Bangalore/Bengaluru',\n",
       " 'Bangalore/Bengaluru',\n",
       " 'Bangalore/Bengaluru, Hyderabad/Secunderabad, Pune, Chennai',\n",
       " 'Bangalore/Bengaluru',\n",
       " 'Bangalore/Bengaluru, Chennai']"
      ]
     },
     "execution_count": 21,
     "metadata": {},
     "output_type": "execute_result"
    }
   ],
   "source": [
    "locn_title = []\n",
    "\n",
    "for i in locn_tag:\n",
    "    locn_title.append(i.text)\n",
    "    \n",
    "locn_title"
   ]
  },
  {
   "cell_type": "code",
   "execution_count": 22,
   "id": "bc8973b3",
   "metadata": {},
   "outputs": [
    {
     "data": {
      "text/plain": [
       "20"
      ]
     },
     "execution_count": 22,
     "metadata": {},
     "output_type": "execute_result"
    }
   ],
   "source": [
    "# extracting the COMPANY NAME\n",
    "# lets extraxt all web elements having NAME titles\n",
    "\n",
    "cmp_tag = driver.find_elements(By.XPATH,'//a[@class=\"subTitle ellipsis fleft\"]')\n",
    "len(cmp_tag)"
   ]
  },
  {
   "cell_type": "code",
   "execution_count": 23,
   "id": "75983dbc",
   "metadata": {
    "collapsed": true
   },
   "outputs": [
    {
     "data": {
      "text/plain": [
       "['Collabera',\n",
       " 'KPMG India',\n",
       " 'Nuance India',\n",
       " 'Flipkart',\n",
       " 'iMindYourBusiness',\n",
       " 'cliqhr.com',\n",
       " 'cliqhr.com',\n",
       " 'MOURI Tech',\n",
       " 'Artech Infosystems Pvt. Ltd.',\n",
       " 'Schneider Electric',\n",
       " 'Accolite Software India Pvt Ltd',\n",
       " 'BYJUS',\n",
       " 'Deutsche Bank',\n",
       " 'Meesho',\n",
       " 'Walmart',\n",
       " 'NUANCE INDIA PVT LTD',\n",
       " 'Gojek',\n",
       " 'Virtusa',\n",
       " 'PayPal',\n",
       " 'Navitas LLP']"
      ]
     },
     "execution_count": 23,
     "metadata": {},
     "output_type": "execute_result"
    }
   ],
   "source": [
    "cmp_title = []\n",
    "\n",
    "for i in cmp_tag:\n",
    "    cmp_title.append(i.text)\n",
    "    \n",
    "cmp_title"
   ]
  },
  {
   "cell_type": "code",
   "execution_count": 25,
   "id": "bcbd1321",
   "metadata": {},
   "outputs": [
    {
     "data": {
      "text/plain": [
       "20"
      ]
     },
     "execution_count": 25,
     "metadata": {},
     "output_type": "execute_result"
    }
   ],
   "source": [
    "# extracting the EXP REQUIRED\n",
    "# lets extraxt all web elements having EXP titles\n",
    "\n",
    "exp_tag = driver.find_elements(By.XPATH,'//li[@class=\"fleft grey-text br2 placeHolderLi experience\"]')\n",
    "len(exp_tag)"
   ]
  },
  {
   "cell_type": "code",
   "execution_count": 26,
   "id": "1ae8d4c7",
   "metadata": {
    "collapsed": true
   },
   "outputs": [
    {
     "data": {
      "text/plain": [
       "['6-11 Yrs',\n",
       " '2-6 Yrs',\n",
       " '3-8 Yrs',\n",
       " '3-6 Yrs',\n",
       " '0-2 Yrs',\n",
       " '5-10 Yrs',\n",
       " '5-10 Yrs',\n",
       " '6-10 Yrs',\n",
       " '4-8 Yrs',\n",
       " '3-6 Yrs',\n",
       " '2-6 Yrs',\n",
       " '2-5 Yrs',\n",
       " '2-5 Yrs',\n",
       " '3-6 Yrs',\n",
       " '4-7 Yrs',\n",
       " '1-3 Yrs',\n",
       " '3-7 Yrs',\n",
       " '4-8 Yrs',\n",
       " '1-3 Yrs',\n",
       " '3-8 Yrs']"
      ]
     },
     "execution_count": 26,
     "metadata": {},
     "output_type": "execute_result"
    }
   ],
   "source": [
    "exp_title = []\n",
    "\n",
    "for i in exp_tag:\n",
    "    exp_title.append(i.text)\n",
    "    \n",
    "exp_title"
   ]
  },
  {
   "cell_type": "code",
   "execution_count": 29,
   "id": "a793194e",
   "metadata": {
    "collapsed": true
   },
   "outputs": [
    {
     "data": {
      "text/html": [
       "<div>\n",
       "<style scoped>\n",
       "    .dataframe tbody tr th:only-of-type {\n",
       "        vertical-align: middle;\n",
       "    }\n",
       "\n",
       "    .dataframe tbody tr th {\n",
       "        vertical-align: top;\n",
       "    }\n",
       "\n",
       "    .dataframe thead th {\n",
       "        text-align: right;\n",
       "    }\n",
       "</style>\n",
       "<table border=\"1\" class=\"dataframe\">\n",
       "  <thead>\n",
       "    <tr style=\"text-align: right;\">\n",
       "      <th></th>\n",
       "      <th>TITLE</th>\n",
       "      <th>LOCATION</th>\n",
       "      <th>COMPANY</th>\n",
       "      <th>EXPERIENCE</th>\n",
       "    </tr>\n",
       "  </thead>\n",
       "  <tbody>\n",
       "    <tr>\n",
       "      <th>0</th>\n",
       "      <td>Sr.Business Data Analyst</td>\n",
       "      <td>Bangalore/Bengaluru, karnataka\\n(WFH during Co...</td>\n",
       "      <td>Collabera</td>\n",
       "      <td>6-11 Yrs</td>\n",
       "    </tr>\n",
       "    <tr>\n",
       "      <th>1</th>\n",
       "      <td>Hiring Data Analyst - Forensics, KPMG India</td>\n",
       "      <td>Bangalore/Bengaluru, Noida, Kolkata, Mumbai, G...</td>\n",
       "      <td>KPMG India</td>\n",
       "      <td>2-6 Yrs</td>\n",
       "    </tr>\n",
       "    <tr>\n",
       "      <th>2</th>\n",
       "      <td>Financial Data Analyst</td>\n",
       "      <td>Bangalore/Bengaluru</td>\n",
       "      <td>Nuance India</td>\n",
       "      <td>3-8 Yrs</td>\n",
       "    </tr>\n",
       "    <tr>\n",
       "      <th>3</th>\n",
       "      <td>Senior Data Analyst II</td>\n",
       "      <td>Bangalore/Bengaluru</td>\n",
       "      <td>Flipkart</td>\n",
       "      <td>3-6 Yrs</td>\n",
       "    </tr>\n",
       "    <tr>\n",
       "      <th>4</th>\n",
       "      <td>Data Analyst - Python/Artificial Intelligence</td>\n",
       "      <td>Bangalore/Bengaluru, Kolkata, Mumbai, Hyderaba...</td>\n",
       "      <td>iMindYourBusiness</td>\n",
       "      <td>0-2 Yrs</td>\n",
       "    </tr>\n",
       "    <tr>\n",
       "      <th>5</th>\n",
       "      <td>Business Analyst / Data Analyst</td>\n",
       "      <td>Bangalore/Bengaluru, Mumbai, Hyderabad/Secunde...</td>\n",
       "      <td>cliqhr.com</td>\n",
       "      <td>5-10 Yrs</td>\n",
       "    </tr>\n",
       "    <tr>\n",
       "      <th>6</th>\n",
       "      <td>Business Analyst/Data Analyst</td>\n",
       "      <td>Bangalore/Bengaluru, Mumbai, Hyderabad/Secunde...</td>\n",
       "      <td>cliqhr.com</td>\n",
       "      <td>5-10 Yrs</td>\n",
       "    </tr>\n",
       "    <tr>\n",
       "      <th>7</th>\n",
       "      <td>Data Analyst</td>\n",
       "      <td>Bangalore/Bengaluru, Hyderabad/Secunderabad</td>\n",
       "      <td>MOURI Tech</td>\n",
       "      <td>6-10 Yrs</td>\n",
       "    </tr>\n",
       "    <tr>\n",
       "      <th>8</th>\n",
       "      <td>Senior Business Analyst, Data Analytics &amp; Engi...</td>\n",
       "      <td>Bangalore/Bengaluru\\n(WFH during Covid)</td>\n",
       "      <td>Artech Infosystems Pvt. Ltd.</td>\n",
       "      <td>4-8 Yrs</td>\n",
       "    </tr>\n",
       "    <tr>\n",
       "      <th>9</th>\n",
       "      <td>Software Technical Expert - Data Analyst</td>\n",
       "      <td>Bangalore/Bengaluru</td>\n",
       "      <td>Schneider Electric</td>\n",
       "      <td>3-6 Yrs</td>\n",
       "    </tr>\n",
       "  </tbody>\n",
       "</table>\n",
       "</div>"
      ],
      "text/plain": [
       "                                               TITLE  \\\n",
       "0                           Sr.Business Data Analyst   \n",
       "1        Hiring Data Analyst - Forensics, KPMG India   \n",
       "2                             Financial Data Analyst   \n",
       "3                             Senior Data Analyst II   \n",
       "4      Data Analyst - Python/Artificial Intelligence   \n",
       "5                    Business Analyst / Data Analyst   \n",
       "6                      Business Analyst/Data Analyst   \n",
       "7                                       Data Analyst   \n",
       "8  Senior Business Analyst, Data Analytics & Engi...   \n",
       "9           Software Technical Expert - Data Analyst   \n",
       "\n",
       "                                            LOCATION  \\\n",
       "0  Bangalore/Bengaluru, karnataka\\n(WFH during Co...   \n",
       "1  Bangalore/Bengaluru, Noida, Kolkata, Mumbai, G...   \n",
       "2                                Bangalore/Bengaluru   \n",
       "3                                Bangalore/Bengaluru   \n",
       "4  Bangalore/Bengaluru, Kolkata, Mumbai, Hyderaba...   \n",
       "5  Bangalore/Bengaluru, Mumbai, Hyderabad/Secunde...   \n",
       "6  Bangalore/Bengaluru, Mumbai, Hyderabad/Secunde...   \n",
       "7        Bangalore/Bengaluru, Hyderabad/Secunderabad   \n",
       "8            Bangalore/Bengaluru\\n(WFH during Covid)   \n",
       "9                                Bangalore/Bengaluru   \n",
       "\n",
       "                        COMPANY EXPERIENCE  \n",
       "0                     Collabera   6-11 Yrs  \n",
       "1                    KPMG India    2-6 Yrs  \n",
       "2                  Nuance India    3-8 Yrs  \n",
       "3                      Flipkart    3-6 Yrs  \n",
       "4             iMindYourBusiness    0-2 Yrs  \n",
       "5                    cliqhr.com   5-10 Yrs  \n",
       "6                    cliqhr.com   5-10 Yrs  \n",
       "7                    MOURI Tech   6-10 Yrs  \n",
       "8  Artech Infosystems Pvt. Ltd.    4-8 Yrs  \n",
       "9            Schneider Electric    3-6 Yrs  "
      ]
     },
     "execution_count": 29,
     "metadata": {},
     "output_type": "execute_result"
    }
   ],
   "source": [
    "data = pd.DataFrame({'TITLE':job_title,'LOCATION':locn_title,'COMPANY':cmp_title,'EXPERIENCE':exp_title})\n",
    "data[0:10]"
   ]
  },
  {
   "cell_type": "code",
   "execution_count": null,
   "id": "cbfca70f",
   "metadata": {},
   "outputs": [],
   "source": []
  },
  {
   "cell_type": "code",
   "execution_count": null,
   "id": "cea1affa",
   "metadata": {},
   "outputs": [],
   "source": []
  },
  {
   "cell_type": "markdown",
   "id": "0073888d",
   "metadata": {},
   "source": [
    "# Q2) : Write a python program to scrape data for “Data Scientist” Job position in “Bangalore” location.\n",
    "\n"
   ]
  },
  {
   "cell_type": "code",
   "execution_count": 456,
   "id": "6083e351",
   "metadata": {},
   "outputs": [],
   "source": [
    "url = \"https://www.naukri.com/\"\n",
    "driver.get(url)"
   ]
  },
  {
   "cell_type": "code",
   "execution_count": 457,
   "id": "c2016f23",
   "metadata": {},
   "outputs": [
    {
     "data": {
      "text/plain": [
       "<selenium.webdriver.remote.webelement.WebElement (session=\"901a8fa6f6551fb7ff12071376de1d09\", element=\"dc097697-41dc-4c98-b055-bcb87133b890\")>"
      ]
     },
     "execution_count": 457,
     "metadata": {},
     "output_type": "execute_result"
    }
   ],
   "source": [
    "# finding web element for search job bar by using xpath\n",
    "search_desi = driver.find_element(By.XPATH,\"/html/body/div[1]/div[2]/div[3]/div/div/div[1]/div/div/div/input\")\n",
    "search_desi"
   ]
  },
  {
   "cell_type": "code",
   "execution_count": 458,
   "id": "f98dfeb0",
   "metadata": {},
   "outputs": [],
   "source": [
    "# write on search bar\n",
    "search_desi.send_keys(\"Data Scientist\")"
   ]
  },
  {
   "cell_type": "code",
   "execution_count": 459,
   "id": "15bc445a",
   "metadata": {},
   "outputs": [
    {
     "data": {
      "text/plain": [
       "<selenium.webdriver.remote.webelement.WebElement (session=\"901a8fa6f6551fb7ff12071376de1d09\", element=\"1a9b7dcf-2fb1-43c7-a731-7bc6f7c70785\")>"
      ]
     },
     "execution_count": 459,
     "metadata": {},
     "output_type": "execute_result"
    }
   ],
   "source": [
    "# # finding web element for search location bar by using xpath\n",
    "\n",
    "search_locaz = driver.find_element(By.XPATH,\"/html/body/div[1]/div[2]/div[3]/div/div/div[5]/div/div/div/input\")\n",
    "search_locaz"
   ]
  },
  {
   "cell_type": "code",
   "execution_count": 460,
   "id": "9b820b5c",
   "metadata": {},
   "outputs": [],
   "source": [
    "search_locaz.send_keys(\"Bangalore\")"
   ]
  },
  {
   "cell_type": "code",
   "execution_count": 461,
   "id": "f8c412d4",
   "metadata": {},
   "outputs": [
    {
     "data": {
      "text/plain": [
       "<selenium.webdriver.remote.webelement.WebElement (session=\"901a8fa6f6551fb7ff12071376de1d09\", element=\"e308321a-73e8-44d1-8739-53037503c2df\")>"
      ]
     },
     "execution_count": 461,
     "metadata": {},
     "output_type": "execute_result"
    }
   ],
   "source": [
    "# clicking using absolute xpath function\n",
    "\n",
    "search_butnss = driver.find_element(By.XPATH,\"/html/body/div[1]/div[2]/div[3]/div/div/div[6]\")\n",
    "search_butnss"
   ]
  },
  {
   "cell_type": "code",
   "execution_count": 462,
   "id": "fb5bd823",
   "metadata": {},
   "outputs": [],
   "source": [
    "search_butnss.click()"
   ]
  },
  {
   "cell_type": "code",
   "execution_count": 463,
   "id": "853a61b7",
   "metadata": {},
   "outputs": [
    {
     "data": {
      "text/plain": [
       "20"
      ]
     },
     "execution_count": 463,
     "metadata": {},
     "output_type": "execute_result"
    }
   ],
   "source": [
    "# extracting the job titles\n",
    "# lets extraxt all web elements having job titles\n",
    "\n",
    "titles_tag = driver.find_elements(By.XPATH,'//a[@class=\"title fw500 ellipsis\"]')\n",
    "len(titles_tag)"
   ]
  },
  {
   "cell_type": "code",
   "execution_count": 465,
   "id": "e89cec40",
   "metadata": {
    "collapsed": true
   },
   "outputs": [
    {
     "data": {
      "text/plain": [
       "['Data Scientist/ Senior Data Scientist',\n",
       " 'Urgent Job Opening For AI Practitioner - Data Science at Wipro Holmes',\n",
       " 'Hiring For Senior Data Scientist',\n",
       " 'Dataiku Consultant',\n",
       " 'Data Scientist',\n",
       " 'Data & Analytics Tech - Informatica Cloud- Senior Associate',\n",
       " 'Data Scientist: Advanced Analytics',\n",
       " 'Research Scientist',\n",
       " 'Principal - Data Scientist',\n",
       " 'Research and Development -AI/ML -(PhD )',\n",
       " 'Opportunity For Data Scientist - Female Candidates ONLY',\n",
       " 'Senior Data Science Engineer',\n",
       " 'Data Science - Engineering Manager',\n",
       " 'Data Scientist',\n",
       " 'EY GBS - Assistant Director - Data Science (10+ years), Bangalore',\n",
       " 'Data Scientist',\n",
       " 'Data Scientist, Personalization',\n",
       " 'AWS Sagemaker',\n",
       " 'Data Scientist',\n",
       " 'Data Scientist: Artificial Intelligence']"
      ]
     },
     "execution_count": 465,
     "metadata": {},
     "output_type": "execute_result"
    }
   ],
   "source": [
    "\n",
    "job_titles = []\n",
    "\n",
    "for i in titles_tag:\n",
    "    job_titles.append(i.text)\n",
    "    \n",
    "job_titles"
   ]
  },
  {
   "cell_type": "code",
   "execution_count": 466,
   "id": "6a96b742",
   "metadata": {},
   "outputs": [
    {
     "data": {
      "text/plain": [
       "20"
      ]
     },
     "execution_count": 466,
     "metadata": {},
     "output_type": "execute_result"
    }
   ],
   "source": [
    "# extracting the JOB LOCATION\n",
    "# lets extraxt all web elements having LOCATION titles\n",
    "\n",
    "locan_tag = driver.find_elements(By.XPATH,'//li[@class=\"fleft grey-text br2 placeHolderLi location\"]')\n",
    "len(locan_tag)"
   ]
  },
  {
   "cell_type": "code",
   "execution_count": 467,
   "id": "69595859",
   "metadata": {
    "collapsed": true
   },
   "outputs": [
    {
     "data": {
      "text/plain": [
       "['Bangalore/Bengaluru, Pune, Gurgaon/Gurugram, Chennai, Mumbai (All Areas)',\n",
       " 'Bangalore/Bengaluru, Kochi/Cochin, New Delhi, Coimbatore, Chennai, Pune, Mumbai, Hyderabad',\n",
       " 'Bangalore/Bengaluru, Pune',\n",
       " 'Bangalore/Bengaluru, Pune, Chennai',\n",
       " 'Bangalore/Bengaluru',\n",
       " 'Bangalore/Bengaluru',\n",
       " 'Bangalore/Bengaluru',\n",
       " 'Bangalore/Bengaluru',\n",
       " 'Bangalore/Bengaluru',\n",
       " 'Bangalore/Bengaluru, Noida, Hyderabad/Secunderabad, Pune, Gurgaon/Gurugram, Chennai, Delhi / NCR',\n",
       " 'Bangalore/Bengaluru, Gurgaon/Gurugram, Mumbai (All Areas)',\n",
       " 'Bangalore/Bengaluru, Gurgaon/Gurugram, Mumbai (All Areas)',\n",
       " 'Bangalore/Bengaluru, Noida, Mumbai',\n",
       " 'Bangalore/Bengaluru, Mumbai (All Areas)',\n",
       " 'Bangalore/Bengaluru',\n",
       " 'Bangalore/Bengaluru',\n",
       " 'Bangalore/Bengaluru',\n",
       " 'Bangalore/Bengaluru\\n(WFH during Covid)',\n",
       " 'Bangalore/Bengaluru\\n(WFH during Covid)',\n",
       " 'Bangalore/Bengaluru']"
      ]
     },
     "execution_count": 467,
     "metadata": {},
     "output_type": "execute_result"
    }
   ],
   "source": [
    "locan_title = []\n",
    "\n",
    "for i in locan_tag:\n",
    "    locan_title.append(i.text)\n",
    "    \n",
    "locan_title"
   ]
  },
  {
   "cell_type": "code",
   "execution_count": 469,
   "id": "354f99a3",
   "metadata": {},
   "outputs": [
    {
     "data": {
      "text/plain": [
       "20"
      ]
     },
     "execution_count": 469,
     "metadata": {},
     "output_type": "execute_result"
    }
   ],
   "source": [
    "# extracting the COMPANY NAME\n",
    "# lets extraxt all web elements having NAME titles\n",
    "\n",
    "cmpy_tag = driver.find_elements(By.XPATH,'//a[@class=\"subTitle ellipsis fleft\"]')\n",
    "len(cmpy_tag)"
   ]
  },
  {
   "cell_type": "code",
   "execution_count": 470,
   "id": "eba26814",
   "metadata": {
    "collapsed": true
   },
   "outputs": [
    {
     "data": {
      "text/plain": [
       "['Fractal Analytics',\n",
       " 'Wipro',\n",
       " 'TATA CONSULTANCY SERVICES (TCS)',\n",
       " 'Wipro',\n",
       " 'Applied Materials',\n",
       " 'PwC',\n",
       " 'IBM',\n",
       " 'IBM',\n",
       " 'Schneider Electric',\n",
       " 'EXL',\n",
       " 'PayU',\n",
       " 'Fractal Analytics',\n",
       " 'Paytm',\n",
       " 'UPL',\n",
       " 'EYGBS',\n",
       " 'IBM',\n",
       " 'Walmart',\n",
       " 'Wipro',\n",
       " 'Wipro',\n",
       " 'IBM']"
      ]
     },
     "execution_count": 470,
     "metadata": {},
     "output_type": "execute_result"
    }
   ],
   "source": [
    "cmpy_title = []\n",
    "\n",
    "for i in cmpy_tag:\n",
    "    cmpy_title.append(i.text)\n",
    "    \n",
    "cmpy_title"
   ]
  },
  {
   "cell_type": "code",
   "execution_count": 471,
   "id": "087e72fa",
   "metadata": {
    "collapsed": true
   },
   "outputs": [
    {
     "data": {
      "text/html": [
       "<div>\n",
       "<style scoped>\n",
       "    .dataframe tbody tr th:only-of-type {\n",
       "        vertical-align: middle;\n",
       "    }\n",
       "\n",
       "    .dataframe tbody tr th {\n",
       "        vertical-align: top;\n",
       "    }\n",
       "\n",
       "    .dataframe thead th {\n",
       "        text-align: right;\n",
       "    }\n",
       "</style>\n",
       "<table border=\"1\" class=\"dataframe\">\n",
       "  <thead>\n",
       "    <tr style=\"text-align: right;\">\n",
       "      <th></th>\n",
       "      <th>TITLE</th>\n",
       "      <th>LOCATION</th>\n",
       "      <th>COMPANY</th>\n",
       "    </tr>\n",
       "  </thead>\n",
       "  <tbody>\n",
       "    <tr>\n",
       "      <th>0</th>\n",
       "      <td>Data Scientist/ Senior Data Scientist</td>\n",
       "      <td>Bangalore/Bengaluru, Pune, Gurgaon/Gurugram, C...</td>\n",
       "      <td>Fractal Analytics</td>\n",
       "    </tr>\n",
       "    <tr>\n",
       "      <th>1</th>\n",
       "      <td>Urgent Job Opening For AI Practitioner - Data ...</td>\n",
       "      <td>Bangalore/Bengaluru, Kochi/Cochin, New Delhi, ...</td>\n",
       "      <td>Wipro</td>\n",
       "    </tr>\n",
       "    <tr>\n",
       "      <th>2</th>\n",
       "      <td>Hiring For Senior Data Scientist</td>\n",
       "      <td>Bangalore/Bengaluru, Pune</td>\n",
       "      <td>TATA CONSULTANCY SERVICES (TCS)</td>\n",
       "    </tr>\n",
       "    <tr>\n",
       "      <th>3</th>\n",
       "      <td>Dataiku Consultant</td>\n",
       "      <td>Bangalore/Bengaluru, Pune, Chennai</td>\n",
       "      <td>Wipro</td>\n",
       "    </tr>\n",
       "    <tr>\n",
       "      <th>4</th>\n",
       "      <td>Data Scientist</td>\n",
       "      <td>Bangalore/Bengaluru</td>\n",
       "      <td>Applied Materials</td>\n",
       "    </tr>\n",
       "    <tr>\n",
       "      <th>5</th>\n",
       "      <td>Data &amp; Analytics Tech - Informatica Cloud- Sen...</td>\n",
       "      <td>Bangalore/Bengaluru</td>\n",
       "      <td>PwC</td>\n",
       "    </tr>\n",
       "    <tr>\n",
       "      <th>6</th>\n",
       "      <td>Data Scientist: Advanced Analytics</td>\n",
       "      <td>Bangalore/Bengaluru</td>\n",
       "      <td>IBM</td>\n",
       "    </tr>\n",
       "    <tr>\n",
       "      <th>7</th>\n",
       "      <td>Research Scientist</td>\n",
       "      <td>Bangalore/Bengaluru</td>\n",
       "      <td>IBM</td>\n",
       "    </tr>\n",
       "    <tr>\n",
       "      <th>8</th>\n",
       "      <td>Principal - Data Scientist</td>\n",
       "      <td>Bangalore/Bengaluru</td>\n",
       "      <td>Schneider Electric</td>\n",
       "    </tr>\n",
       "    <tr>\n",
       "      <th>9</th>\n",
       "      <td>Research and Development -AI/ML -(PhD )</td>\n",
       "      <td>Bangalore/Bengaluru, Noida, Hyderabad/Secunder...</td>\n",
       "      <td>EXL</td>\n",
       "    </tr>\n",
       "  </tbody>\n",
       "</table>\n",
       "</div>"
      ],
      "text/plain": [
       "                                               TITLE  \\\n",
       "0              Data Scientist/ Senior Data Scientist   \n",
       "1  Urgent Job Opening For AI Practitioner - Data ...   \n",
       "2                   Hiring For Senior Data Scientist   \n",
       "3                                 Dataiku Consultant   \n",
       "4                                     Data Scientist   \n",
       "5  Data & Analytics Tech - Informatica Cloud- Sen...   \n",
       "6                 Data Scientist: Advanced Analytics   \n",
       "7                                 Research Scientist   \n",
       "8                         Principal - Data Scientist   \n",
       "9            Research and Development -AI/ML -(PhD )   \n",
       "\n",
       "                                            LOCATION  \\\n",
       "0  Bangalore/Bengaluru, Pune, Gurgaon/Gurugram, C...   \n",
       "1  Bangalore/Bengaluru, Kochi/Cochin, New Delhi, ...   \n",
       "2                          Bangalore/Bengaluru, Pune   \n",
       "3                 Bangalore/Bengaluru, Pune, Chennai   \n",
       "4                                Bangalore/Bengaluru   \n",
       "5                                Bangalore/Bengaluru   \n",
       "6                                Bangalore/Bengaluru   \n",
       "7                                Bangalore/Bengaluru   \n",
       "8                                Bangalore/Bengaluru   \n",
       "9  Bangalore/Bengaluru, Noida, Hyderabad/Secunder...   \n",
       "\n",
       "                           COMPANY  \n",
       "0                Fractal Analytics  \n",
       "1                            Wipro  \n",
       "2  TATA CONSULTANCY SERVICES (TCS)  \n",
       "3                            Wipro  \n",
       "4                Applied Materials  \n",
       "5                              PwC  \n",
       "6                              IBM  \n",
       "7                              IBM  \n",
       "8               Schneider Electric  \n",
       "9                              EXL  "
      ]
     },
     "execution_count": 471,
     "metadata": {},
     "output_type": "execute_result"
    }
   ],
   "source": [
    "datas = pd.DataFrame({'TITLE':job_titles,'LOCATION':locan_title,'COMPANY':cmpy_title})\n",
    "datas[0:10]"
   ]
  },
  {
   "cell_type": "code",
   "execution_count": null,
   "id": "510489b1",
   "metadata": {},
   "outputs": [],
   "source": []
  },
  {
   "cell_type": "markdown",
   "id": "017da8f5",
   "metadata": {},
   "source": [
    "# Q3) You have to scrape data for “Data Scientist” with salary and location filter"
   ]
  },
  {
   "cell_type": "code",
   "execution_count": 55,
   "id": "19f9b80b",
   "metadata": {},
   "outputs": [
    {
     "data": {
      "text/plain": [
       "<selenium.webdriver.remote.webelement.WebElement (session=\"a7a68f4a7626f183e789c63e6abdc9b3\", element=\"df6f7256-5190-4001-901b-d1e1c4afbdc6\")>"
      ]
     },
     "execution_count": 55,
     "metadata": {},
     "output_type": "execute_result"
    }
   ],
   "source": [
    "\n",
    "search_de = driver.find_element(By.XPATH,\"/html/body/div[1]/div[2]/div[3]/div/div/div[1]/div/div/div/input\")\n",
    "search_de"
   ]
  },
  {
   "cell_type": "code",
   "execution_count": null,
   "id": "199a69a5",
   "metadata": {},
   "outputs": [],
   "source": []
  },
  {
   "cell_type": "code",
   "execution_count": 56,
   "id": "1a77b0a8",
   "metadata": {},
   "outputs": [],
   "source": [
    "search_de.send_keys(\"Data Scientist\")"
   ]
  },
  {
   "cell_type": "code",
   "execution_count": 57,
   "id": "0a7cb5e7",
   "metadata": {},
   "outputs": [
    {
     "data": {
      "text/plain": [
       "<selenium.webdriver.remote.webelement.WebElement (session=\"a7a68f4a7626f183e789c63e6abdc9b3\", element=\"73931730-3361-4e33-98da-29e8e49b917f\")>"
      ]
     },
     "execution_count": 57,
     "metadata": {},
     "output_type": "execute_result"
    }
   ],
   "source": [
    "search_lo = driver.find_element(By.XPATH,\"/html/body/div[1]/div[2]/div[3]/div/div/div[5]/div/div/div/input\")\n",
    "search_lo"
   ]
  },
  {
   "cell_type": "code",
   "execution_count": 58,
   "id": "2e211980",
   "metadata": {},
   "outputs": [],
   "source": [
    "search_lo.send_keys(\"Delhi\")"
   ]
  },
  {
   "cell_type": "code",
   "execution_count": 59,
   "id": "fd498d6c",
   "metadata": {},
   "outputs": [
    {
     "data": {
      "text/plain": [
       "<selenium.webdriver.remote.webelement.WebElement (session=\"a7a68f4a7626f183e789c63e6abdc9b3\", element=\"f2b0c7df-96ff-4104-8020-e303be1ca732\")>"
      ]
     },
     "execution_count": 59,
     "metadata": {},
     "output_type": "execute_result"
    }
   ],
   "source": [
    "search_butns = driver.find_element(By.XPATH,\"/html/body/div[1]/div[2]/div[3]/div/div/div[6]\")\n",
    "search_butns"
   ]
  },
  {
   "cell_type": "code",
   "execution_count": 60,
   "id": "b1ae697f",
   "metadata": {},
   "outputs": [],
   "source": [
    "search_butns.click()"
   ]
  },
  {
   "cell_type": "code",
   "execution_count": 61,
   "id": "a93a3eaa",
   "metadata": {},
   "outputs": [
    {
     "data": {
      "text/plain": [
       "<selenium.webdriver.remote.webelement.WebElement (session=\"a7a68f4a7626f183e789c63e6abdc9b3\", element=\"e19dcc42-e4cd-4a70-a5ae-3af79a8e24e5\")>"
      ]
     },
     "execution_count": 61,
     "metadata": {},
     "output_type": "execute_result"
    }
   ],
   "source": [
    "salary_chk = driver.find_element(By.XPATH,\"/html/body/div[1]/div[3]/div[2]/section[1]/div[2]/div[1]/div[2]/div[2]/label/p/span[1]\")\n",
    "salary_chk"
   ]
  },
  {
   "cell_type": "code",
   "execution_count": 62,
   "id": "9402b202",
   "metadata": {},
   "outputs": [],
   "source": [
    "salary_chk.click()"
   ]
  },
  {
   "cell_type": "code",
   "execution_count": 63,
   "id": "39e63e8d",
   "metadata": {},
   "outputs": [
    {
     "data": {
      "text/plain": [
       "<selenium.webdriver.remote.webelement.WebElement (session=\"a7a68f4a7626f183e789c63e6abdc9b3\", element=\"aa77f555-dbc0-46ae-ba36-426523fcac25\")>"
      ]
     },
     "execution_count": 63,
     "metadata": {},
     "output_type": "execute_result"
    }
   ],
   "source": [
    "loc_filter = driver.find_element(By.XPATH,\"/html/body/div[1]/div[3]/div[2]/section[1]/div[2]/div[13]/div[2]/div[3]/label/p/span[1]\")\n",
    "loc_filter"
   ]
  },
  {
   "cell_type": "code",
   "execution_count": 64,
   "id": "9493b2f6",
   "metadata": {},
   "outputs": [],
   "source": [
    "loc_filter.click()"
   ]
  },
  {
   "cell_type": "code",
   "execution_count": 65,
   "id": "6da7185f",
   "metadata": {},
   "outputs": [
    {
     "data": {
      "text/plain": [
       "20"
      ]
     },
     "execution_count": 65,
     "metadata": {},
     "output_type": "execute_result"
    }
   ],
   "source": [
    "# extracting the job titles\n",
    "# lets extraxt all web elements having job titles\n",
    "\n",
    "titl_tag = driver.find_elements(By.XPATH,'//a[@class=\"title fw500 ellipsis\"]')\n",
    "len(titl_tag)"
   ]
  },
  {
   "cell_type": "code",
   "execution_count": 66,
   "id": "782ad1ff",
   "metadata": {
    "collapsed": true
   },
   "outputs": [
    {
     "data": {
      "text/plain": [
       "['DigitalBCG GAMMA Data Scientist',\n",
       " 'Senior Associate - Data Science',\n",
       " 'Data Scientist - Noida/Bangalore',\n",
       " 'Data Scientist - Machine learning AI',\n",
       " 'Data Scientist - MIND Infotech',\n",
       " 'Data Scientist',\n",
       " 'Data Scientist - Engine Algorithm',\n",
       " 'Data Scientist',\n",
       " 'Data Scientist',\n",
       " 'Data Science',\n",
       " 'Data Scientist - Internet Jobs - II',\n",
       " 'Data Science',\n",
       " 'Data Scientist',\n",
       " 'Machine Learning Seniors',\n",
       " 'Hiring || Data Scientist || North Delhi || 5.5 days working',\n",
       " 'Data scientist- Python',\n",
       " 'Data Engineer',\n",
       " 'Dot Net Developer',\n",
       " 'Data Scientists',\n",
       " 'Associate Data Scientist - Java/ Scala/ Apache Server']"
      ]
     },
     "execution_count": 66,
     "metadata": {},
     "output_type": "execute_result"
    }
   ],
   "source": [
    "\n",
    "job_titl = []\n",
    "\n",
    "for i in titl_tag:\n",
    "    job_titl.append(i.text)\n",
    "    \n",
    "job_titl"
   ]
  },
  {
   "cell_type": "code",
   "execution_count": 67,
   "id": "cbe7f1e6",
   "metadata": {},
   "outputs": [
    {
     "data": {
      "text/plain": [
       "20"
      ]
     },
     "execution_count": 67,
     "metadata": {},
     "output_type": "execute_result"
    }
   ],
   "source": [
    "# extracting the JOB LOCATION\n",
    "# lets extraxt all web elements having LOCATION titles\n",
    "\n",
    "locn_ta = driver.find_elements(By.XPATH,'//li[@class=\"fleft grey-text br2 placeHolderLi location\"]')\n",
    "len(locn_ta)"
   ]
  },
  {
   "cell_type": "code",
   "execution_count": 68,
   "id": "111bbebd",
   "metadata": {
    "collapsed": true
   },
   "outputs": [
    {
     "data": {
      "text/plain": [
       "['New Delhi, Bangalore/Bengaluru',\n",
       " 'Mumbai, Hyderabad/Secunderabad, Gurgaon/Gurugram, Bangalore/Bengaluru',\n",
       " 'Noida, Bangalore/Bengaluru',\n",
       " 'Delhi / NCR, Bangalore/Bengaluru, Mumbai (All Areas)\\n(WFH during Covid)',\n",
       " 'Noida',\n",
       " 'Delhi / NCR, Pune, Bangalore/Bengaluru',\n",
       " 'Delhi / NCR, Kolkata, Mumbai, Hyderabad/Secunderabad, Lucknow, Chennai, Ahmedabad, Bangalore/Bengaluru',\n",
       " 'Delhi / NCR, Pune, Bangalore/Bengaluru',\n",
       " 'Delhi / NCR, Bangalore/Bengaluru, Mumbai (All Areas)\\n(WFH during Covid)',\n",
       " 'Delhi / NCR, Noida, Faridabad, Gurgaon/Gurugram, Bangalore/Bengaluru, Greater Noida',\n",
       " 'Delhi / NCR, Bangalore/Bengaluru, Mumbai (All Areas)',\n",
       " 'Delhi / NCR, Noida, Faridabad, Gurgaon/Gurugram, Bangalore/Bengaluru, Greater Noida',\n",
       " 'Gurgaon/Gurugram',\n",
       " 'Hyderabad/Secunderabad, New Delhi',\n",
       " 'Delhi / NCR(Netaji Subhash Place)',\n",
       " 'Gurgaon/Gurugram',\n",
       " 'Mumbai, New Delhi, Pune',\n",
       " 'Delhi / NCR, Gurgaon/Gurugram',\n",
       " 'Gurgaon/Gurugram',\n",
       " 'Noida']"
      ]
     },
     "execution_count": 68,
     "metadata": {},
     "output_type": "execute_result"
    }
   ],
   "source": [
    "locn_tit = []\n",
    "\n",
    "for i in locn_ta:\n",
    "    locn_tit.append(i.text)\n",
    "    \n",
    "locn_tit"
   ]
  },
  {
   "cell_type": "code",
   "execution_count": 69,
   "id": "01da87a3",
   "metadata": {},
   "outputs": [
    {
     "data": {
      "text/plain": [
       "20"
      ]
     },
     "execution_count": 69,
     "metadata": {},
     "output_type": "execute_result"
    }
   ],
   "source": [
    "# extracting the COMPANY NAME\n",
    "# lets extraxt all web elements having NAME titles\n",
    "\n",
    "cmpny_tag = driver.find_elements(By.XPATH,'//a[@class=\"subTitle ellipsis fleft\"]')\n",
    "len(cmpny_tag)"
   ]
  },
  {
   "cell_type": "code",
   "execution_count": 70,
   "id": "79a0375a",
   "metadata": {
    "collapsed": true
   },
   "outputs": [
    {
     "data": {
      "text/plain": [
       "['Boston Consulting Group',\n",
       " 'Black Turtle India Pvt Ltd',\n",
       " 'EXL',\n",
       " 'Teq Analytics',\n",
       " 'MOTHERSONSUMI INFOTECH & DESIGNS LIMITED',\n",
       " 'Mount Talent Consulting Private Limited',\n",
       " 'Primo Hiring',\n",
       " 'Mount Talent Consulting Private Limited',\n",
       " 'Sydata Consulting India Pvt Ltd',\n",
       " 'Mount Talent Consulting Private Limited',\n",
       " 'Jobs Territory',\n",
       " 'Mount Talent Consulting Private Limited',\n",
       " 'Kellton Tech Solutions',\n",
       " 'Walking Tree Consultancy Services pvt Ltd',\n",
       " 'Shriram Automall India Limited',\n",
       " 'TeamPlus Staffing Solution Pvt Ltd',\n",
       " 'excellence',\n",
       " 'Nibha Infotech Private Limited',\n",
       " 'Nibha Infotech Private Limited',\n",
       " 'Smart work Consultants']"
      ]
     },
     "execution_count": 70,
     "metadata": {},
     "output_type": "execute_result"
    }
   ],
   "source": [
    "cmps_title = []\n",
    "\n",
    "for i in cmpny_tag:\n",
    "    cmps_title.append(i.text)\n",
    "    \n",
    "cmps_title"
   ]
  },
  {
   "cell_type": "code",
   "execution_count": 71,
   "id": "5deb2db7",
   "metadata": {},
   "outputs": [
    {
     "data": {
      "text/plain": [
       "20"
      ]
     },
     "execution_count": 71,
     "metadata": {},
     "output_type": "execute_result"
    }
   ],
   "source": [
    "# extracting the EXP REQUIRED\n",
    "# lets extraxt all web elements having EXP titles\n",
    "\n",
    "expe_tag = driver.find_elements(By.XPATH,'//li[@class=\"fleft grey-text br2 placeHolderLi experience\"]')\n",
    "len(expe_tag)"
   ]
  },
  {
   "cell_type": "code",
   "execution_count": 72,
   "id": "696cd710",
   "metadata": {
    "collapsed": true
   },
   "outputs": [
    {
     "data": {
      "text/plain": [
       "['2-5 Yrs',\n",
       " '4-7 Yrs',\n",
       " '5-10 Yrs',\n",
       " '3-8 Yrs',\n",
       " '4-8 Yrs',\n",
       " '2-4 Yrs',\n",
       " '1-3 Yrs',\n",
       " '2-4 Yrs',\n",
       " '3-8 Yrs',\n",
       " '2-5 Yrs',\n",
       " '3-6 Yrs',\n",
       " '2-5 Yrs',\n",
       " '3-6 Yrs',\n",
       " '2-5 Yrs',\n",
       " '4-9 Yrs',\n",
       " '3-6 Yrs',\n",
       " '4-9 Yrs',\n",
       " '3-8 Yrs',\n",
       " '5-8 Yrs',\n",
       " '1-4 Yrs']"
      ]
     },
     "execution_count": 72,
     "metadata": {},
     "output_type": "execute_result"
    }
   ],
   "source": [
    "expe_title = []\n",
    "\n",
    "for i in expe_tag:\n",
    "    expe_title.append(i.text)\n",
    "    \n",
    "expe_title"
   ]
  },
  {
   "cell_type": "code",
   "execution_count": 73,
   "id": "df0fe7e4",
   "metadata": {
    "collapsed": true
   },
   "outputs": [
    {
     "data": {
      "text/html": [
       "<div>\n",
       "<style scoped>\n",
       "    .dataframe tbody tr th:only-of-type {\n",
       "        vertical-align: middle;\n",
       "    }\n",
       "\n",
       "    .dataframe tbody tr th {\n",
       "        vertical-align: top;\n",
       "    }\n",
       "\n",
       "    .dataframe thead th {\n",
       "        text-align: right;\n",
       "    }\n",
       "</style>\n",
       "<table border=\"1\" class=\"dataframe\">\n",
       "  <thead>\n",
       "    <tr style=\"text-align: right;\">\n",
       "      <th></th>\n",
       "      <th>TITLE</th>\n",
       "      <th>LOCATION</th>\n",
       "      <th>COMPANY</th>\n",
       "      <th>EXPERIENCE</th>\n",
       "    </tr>\n",
       "  </thead>\n",
       "  <tbody>\n",
       "    <tr>\n",
       "      <th>0</th>\n",
       "      <td>DigitalBCG GAMMA Data Scientist</td>\n",
       "      <td>New Delhi, Bangalore/Bengaluru</td>\n",
       "      <td>Boston Consulting Group</td>\n",
       "      <td>2-5 Yrs</td>\n",
       "    </tr>\n",
       "    <tr>\n",
       "      <th>1</th>\n",
       "      <td>Senior Associate - Data Science</td>\n",
       "      <td>Mumbai, Hyderabad/Secunderabad, Gurgaon/Gurugr...</td>\n",
       "      <td>Black Turtle India Pvt Ltd</td>\n",
       "      <td>4-7 Yrs</td>\n",
       "    </tr>\n",
       "    <tr>\n",
       "      <th>2</th>\n",
       "      <td>Data Scientist - Noida/Bangalore</td>\n",
       "      <td>Noida, Bangalore/Bengaluru</td>\n",
       "      <td>EXL</td>\n",
       "      <td>5-10 Yrs</td>\n",
       "    </tr>\n",
       "    <tr>\n",
       "      <th>3</th>\n",
       "      <td>Data Scientist - Machine learning AI</td>\n",
       "      <td>Delhi / NCR, Bangalore/Bengaluru, Mumbai (All ...</td>\n",
       "      <td>Teq Analytics</td>\n",
       "      <td>3-8 Yrs</td>\n",
       "    </tr>\n",
       "    <tr>\n",
       "      <th>4</th>\n",
       "      <td>Data Scientist - MIND Infotech</td>\n",
       "      <td>Noida</td>\n",
       "      <td>MOTHERSONSUMI INFOTECH &amp; DESIGNS LIMITED</td>\n",
       "      <td>4-8 Yrs</td>\n",
       "    </tr>\n",
       "    <tr>\n",
       "      <th>5</th>\n",
       "      <td>Data Scientist</td>\n",
       "      <td>Delhi / NCR, Pune, Bangalore/Bengaluru</td>\n",
       "      <td>Mount Talent Consulting Private Limited</td>\n",
       "      <td>2-4 Yrs</td>\n",
       "    </tr>\n",
       "    <tr>\n",
       "      <th>6</th>\n",
       "      <td>Data Scientist - Engine Algorithm</td>\n",
       "      <td>Delhi / NCR, Kolkata, Mumbai, Hyderabad/Secund...</td>\n",
       "      <td>Primo Hiring</td>\n",
       "      <td>1-3 Yrs</td>\n",
       "    </tr>\n",
       "    <tr>\n",
       "      <th>7</th>\n",
       "      <td>Data Scientist</td>\n",
       "      <td>Delhi / NCR, Pune, Bangalore/Bengaluru</td>\n",
       "      <td>Mount Talent Consulting Private Limited</td>\n",
       "      <td>2-4 Yrs</td>\n",
       "    </tr>\n",
       "    <tr>\n",
       "      <th>8</th>\n",
       "      <td>Data Scientist</td>\n",
       "      <td>Delhi / NCR, Bangalore/Bengaluru, Mumbai (All ...</td>\n",
       "      <td>Sydata Consulting India Pvt Ltd</td>\n",
       "      <td>3-8 Yrs</td>\n",
       "    </tr>\n",
       "    <tr>\n",
       "      <th>9</th>\n",
       "      <td>Data Science</td>\n",
       "      <td>Delhi / NCR, Noida, Faridabad, Gurgaon/Gurugra...</td>\n",
       "      <td>Mount Talent Consulting Private Limited</td>\n",
       "      <td>2-5 Yrs</td>\n",
       "    </tr>\n",
       "  </tbody>\n",
       "</table>\n",
       "</div>"
      ],
      "text/plain": [
       "                                  TITLE  \\\n",
       "0       DigitalBCG GAMMA Data Scientist   \n",
       "1       Senior Associate - Data Science   \n",
       "2      Data Scientist - Noida/Bangalore   \n",
       "3  Data Scientist - Machine learning AI   \n",
       "4        Data Scientist - MIND Infotech   \n",
       "5                        Data Scientist   \n",
       "6     Data Scientist - Engine Algorithm   \n",
       "7                        Data Scientist   \n",
       "8                        Data Scientist   \n",
       "9                          Data Science   \n",
       "\n",
       "                                            LOCATION  \\\n",
       "0                     New Delhi, Bangalore/Bengaluru   \n",
       "1  Mumbai, Hyderabad/Secunderabad, Gurgaon/Gurugr...   \n",
       "2                         Noida, Bangalore/Bengaluru   \n",
       "3  Delhi / NCR, Bangalore/Bengaluru, Mumbai (All ...   \n",
       "4                                              Noida   \n",
       "5             Delhi / NCR, Pune, Bangalore/Bengaluru   \n",
       "6  Delhi / NCR, Kolkata, Mumbai, Hyderabad/Secund...   \n",
       "7             Delhi / NCR, Pune, Bangalore/Bengaluru   \n",
       "8  Delhi / NCR, Bangalore/Bengaluru, Mumbai (All ...   \n",
       "9  Delhi / NCR, Noida, Faridabad, Gurgaon/Gurugra...   \n",
       "\n",
       "                                    COMPANY EXPERIENCE  \n",
       "0                   Boston Consulting Group    2-5 Yrs  \n",
       "1                Black Turtle India Pvt Ltd    4-7 Yrs  \n",
       "2                                       EXL   5-10 Yrs  \n",
       "3                             Teq Analytics    3-8 Yrs  \n",
       "4  MOTHERSONSUMI INFOTECH & DESIGNS LIMITED    4-8 Yrs  \n",
       "5   Mount Talent Consulting Private Limited    2-4 Yrs  \n",
       "6                              Primo Hiring    1-3 Yrs  \n",
       "7   Mount Talent Consulting Private Limited    2-4 Yrs  \n",
       "8           Sydata Consulting India Pvt Ltd    3-8 Yrs  \n",
       "9   Mount Talent Consulting Private Limited    2-5 Yrs  "
      ]
     },
     "execution_count": 73,
     "metadata": {},
     "output_type": "execute_result"
    }
   ],
   "source": [
    "data = pd.DataFrame({'TITLE':job_titl,'LOCATION':locn_tit,'COMPANY':cmps_title,'EXPERIENCE':expe_title})\n",
    "data[0:10]"
   ]
  },
  {
   "cell_type": "code",
   "execution_count": null,
   "id": "a890f060",
   "metadata": {},
   "outputs": [],
   "source": []
  },
  {
   "cell_type": "markdown",
   "id": "b687a168",
   "metadata": {},
   "source": [
    "# Q4) : Scrape data of first 100 sunglasses listings on flipkart.com"
   ]
  },
  {
   "cell_type": "code",
   "execution_count": 85,
   "id": "11decd13",
   "metadata": {},
   "outputs": [],
   "source": [
    "url = \"http://www.flipkart.com/\"\n",
    "driver.get(url)"
   ]
  },
  {
   "cell_type": "code",
   "execution_count": 86,
   "id": "dc109cbd",
   "metadata": {},
   "outputs": [
    {
     "data": {
      "text/plain": [
       "<selenium.webdriver.remote.webelement.WebElement (session=\"84871e3b4024b87374ed45181929e6be\", element=\"90f075d9-acfa-403a-88c3-6b38fb27e586\")>"
      ]
     },
     "execution_count": 86,
     "metadata": {},
     "output_type": "execute_result"
    }
   ],
   "source": [
    "srch_de = driver.find_element(By.XPATH,\"/html/body/div[1]/div/div[1]/div[1]/div[2]/div[2]/form/div/div/input\")\n",
    "srch_de"
   ]
  },
  {
   "cell_type": "code",
   "execution_count": 87,
   "id": "11fbfd7e",
   "metadata": {},
   "outputs": [],
   "source": [
    "srch_de.send_keys(\"sunglasses\")"
   ]
  },
  {
   "cell_type": "code",
   "execution_count": 89,
   "id": "193d0406",
   "metadata": {},
   "outputs": [
    {
     "data": {
      "text/plain": [
       "<selenium.webdriver.remote.webelement.WebElement (session=\"84871e3b4024b87374ed45181929e6be\", element=\"e6c70702-7b85-4c4a-933a-3ef3e72f638b\")>"
      ]
     },
     "execution_count": 89,
     "metadata": {},
     "output_type": "execute_result"
    }
   ],
   "source": [
    "srch_butns = driver.find_element(By.XPATH,\"/html/body/div[1]/div/div[1]/div[1]/div[2]/div[2]/form/div/button\")\n",
    "srch_butns"
   ]
  },
  {
   "cell_type": "code",
   "execution_count": 90,
   "id": "35e3bc20",
   "metadata": {},
   "outputs": [],
   "source": [
    "srch_butns.click()"
   ]
  },
  {
   "cell_type": "code",
   "execution_count": 91,
   "id": "4a1fc22a",
   "metadata": {},
   "outputs": [
    {
     "data": {
      "text/plain": [
       "40"
      ]
     },
     "execution_count": 91,
     "metadata": {},
     "output_type": "execute_result"
    }
   ],
   "source": [
    "# EXTRACTING THE BRAND \n",
    "# lets extraxt all web elements having BRAND\n",
    "\n",
    "brand_tag = driver.find_elements(By.XPATH,'//div[@class=\"_2WkVRV\"]')\n",
    "len(brand_tag)"
   ]
  },
  {
   "cell_type": "code",
   "execution_count": 92,
   "id": "796bcd8f",
   "metadata": {
    "collapsed": true
   },
   "outputs": [
    {
     "data": {
      "text/plain": [
       "['Singco India',\n",
       " 'VINCENT CHASE',\n",
       " 'DAHAAZIL',\n",
       " 'Fastrack',\n",
       " 'New Specs',\n",
       " 'Elligator',\n",
       " 'SUNBEE',\n",
       " 'ROZZETTA CRAFT',\n",
       " 'PIRASO',\n",
       " 'SRPM',\n",
       " 'SUNBEE',\n",
       " 'ROZZETTA CRAFT',\n",
       " 'SHAAH COLLECTIONS',\n",
       " 'Fastrack',\n",
       " 'PIRASO',\n",
       " 'Singco India',\n",
       " 'Fastrack',\n",
       " 'PIRASO',\n",
       " 'Lee Topper',\n",
       " 'DEIXELS',\n",
       " 'PIRASO',\n",
       " 'Lee Topper',\n",
       " 'PIRASO',\n",
       " 'john jacobs',\n",
       " 'PIRASO',\n",
       " 'PIRASO',\n",
       " 'SHAAH COLLECTIONS',\n",
       " 'ROYAL SON',\n",
       " 'Fastrack',\n",
       " 'ROZZETTA CRAFT',\n",
       " 'Sewell',\n",
       " 'Arnette',\n",
       " 'ROZZETTA CRAFT',\n",
       " 'SRPM',\n",
       " 'New Specs',\n",
       " 'Arnette',\n",
       " 'Mi',\n",
       " 'SUNBEE',\n",
       " 'LIZA ANGEL',\n",
       " 'ROYAL SON']"
      ]
     },
     "execution_count": 92,
     "metadata": {},
     "output_type": "execute_result"
    }
   ],
   "source": [
    "brand_title = []\n",
    "\n",
    "for i in brand_tag:\n",
    "    brand_title.append(i.text)\n",
    "    \n",
    "brand_title"
   ]
  },
  {
   "cell_type": "code",
   "execution_count": 93,
   "id": "c805c18a",
   "metadata": {},
   "outputs": [
    {
     "data": {
      "text/plain": [
       "40"
      ]
     },
     "execution_count": 93,
     "metadata": {},
     "output_type": "execute_result"
    }
   ],
   "source": [
    "# EXTRACTING THE PRODUCT DESCRIPTION \n",
    "# lets extraxt all web elements having PRODUCT DESCRIPTION\n",
    "\n",
    "prod_tag = driver.find_elements(By.XPATH,'//a[@class=\"IRpwTa\"]')\n",
    "len(prod_tag)"
   ]
  },
  {
   "cell_type": "code",
   "execution_count": 95,
   "id": "9caada8f",
   "metadata": {
    "collapsed": true
   },
   "outputs": [
    {
     "data": {
      "text/plain": [
       "['Gradient, Toughened Glass Lens, UV Protection Retro Squ...',\n",
       " 'by Lenskart Polarized, UV Protection Rectangular Sungla...',\n",
       " 'UV Protection, Night Vision, Riding Glasses Wayfarer, W...',\n",
       " 'UV Protection Rectangular Sunglasses (Free Size)',\n",
       " 'UV Protection Rectangular Sunglasses (Free Size)',\n",
       " 'UV Protection Round Sunglasses (54)',\n",
       " 'UV Protection, Polarized Wayfarer Sunglasses (Free Size...',\n",
       " 'UV Protection, Gradient Rectangular Sunglasses (Free Si...',\n",
       " 'UV Protection Aviator Sunglasses (54)',\n",
       " 'UV Protection Wayfarer Sunglasses (50)',\n",
       " 'UV Protection, Polarized, Mirrored Retro Square Sunglas...',\n",
       " 'UV Protection Spectacle Sunglasses (Free Size)',\n",
       " 'UV Protection, Polarized, Mirrored Rectangular Sunglass...',\n",
       " 'UV Protection Wayfarer Sunglasses (Free Size)',\n",
       " 'UV Protection Aviator Sunglasses (54)',\n",
       " 'Riding Glasses, UV Protection, Others Aviator Sunglasse...',\n",
       " 'UV Protection Aviator Sunglasses (Free Size)',\n",
       " 'UV Protection Aviator Sunglasses (58)',\n",
       " 'UV Protection Cat-eye Sunglasses (Free Size)',\n",
       " 'UV Protection Aviator Sunglasses (Free Size)',\n",
       " 'UV Protection Rectangular Sunglasses (52)',\n",
       " 'Riding Glasses Wrap-around Sunglasses (Free Size)',\n",
       " 'UV Protection Wayfarer Sunglasses (32)',\n",
       " 'UV Protection Wayfarer Sunglasses (46)',\n",
       " 'UV Protection Aviator Sunglasses (54)',\n",
       " 'UV Protection Over-sized Sunglasses (65)',\n",
       " 'UV Protection Round Sunglasses (Free Size)',\n",
       " 'Polarized, UV Protection Wrap-around Sunglasses (62)',\n",
       " 'Gradient, UV Protection Wayfarer Sunglasses (Free Size)',\n",
       " 'Polarized, Riding Glasses Sports, Wrap-around Sunglasse...',\n",
       " 'Mirrored, Night Vision, UV Protection, Riding Glasses S...',\n",
       " 'Others Oval Sunglasses (53)',\n",
       " 'UV Protection, Gradient Retro Square Sunglasses (Free S...',\n",
       " 'Others Wayfarer, Retro Square Sunglasses (50)',\n",
       " 'Mirrored, UV Protection, Riding Glasses, Others Round S...',\n",
       " 'Others Retro Square Sunglasses (55)',\n",
       " 'Polarized Aviator Sunglasses (Free Size)',\n",
       " 'UV Protection, Polarized, Mirrored Wayfarer Sunglasses ...',\n",
       " 'UV Protection, Night Vision, Riding Glasses Round Sungl...',\n",
       " 'Polarized, UV Protection Aviator Sunglasses (58)']"
      ]
     },
     "execution_count": 95,
     "metadata": {},
     "output_type": "execute_result"
    }
   ],
   "source": [
    "prod_title = []\n",
    "\n",
    "for i in prod_tag:\n",
    "    prod_title.append(i.text)\n",
    "    \n",
    "prod_title"
   ]
  },
  {
   "cell_type": "code",
   "execution_count": 99,
   "id": "b1959d03",
   "metadata": {},
   "outputs": [
    {
     "data": {
      "text/plain": [
       "40"
      ]
     },
     "execution_count": 99,
     "metadata": {},
     "output_type": "execute_result"
    }
   ],
   "source": [
    "# EXTRACTING THE PRICE\n",
    "# lets extraxt all web elements having PRICE\n",
    "\n",
    "pri_tag = driver.find_elements(By.XPATH,'//a[@class=\"_3bPFwb\"]')\n",
    "len(pri_tag)"
   ]
  },
  {
   "cell_type": "code",
   "execution_count": 102,
   "id": "00100794",
   "metadata": {
    "collapsed": true
   },
   "outputs": [
    {
     "data": {
      "text/plain": [
       "['₹598₹2,99980% off',\n",
       " '₹749₹1,99962% off',\n",
       " '₹177₹99982% off',\n",
       " '₹639₹79920% off',\n",
       " '₹264₹2,59989% off',\n",
       " '₹315₹2,49587% off',\n",
       " '₹283₹1,29978% off',\n",
       " '₹399₹1,99980% off',\n",
       " '₹224₹1,59985% off\\n',\n",
       " '₹224₹1,29982% off\\n',\n",
       " '₹259₹1,29980% off\\n',\n",
       " '₹399₹1,99980% off\\n',\n",
       " '₹195₹1,69988% off\\n',\n",
       " '₹799₹99920% off\\n',\n",
       " '₹224₹1,59985% off\\n',\n",
       " '₹232₹1,49984% off\\n',\n",
       " '₹639₹79920% off\\n',\n",
       " '₹359₹2,59986% off\\n',\n",
       " '₹229₹1,29982% off\\n',\n",
       " '₹224₹1,19981% off\\n',\n",
       " '₹306₹2,59988% off\\n',\n",
       " '₹299₹2,49988% off\\n',\n",
       " '₹226₹1,59985% off\\n',\n",
       " '₹3,000₹6,00050% off\\n',\n",
       " '₹246₹1,59984% off\\n',\n",
       " '₹410₹2,59984% off\\n',\n",
       " '₹279₹1,29978% off\\n',\n",
       " '₹759₹1,99962% off\\n',\n",
       " '₹719₹89920% off\\n',\n",
       " '₹499₹1,99975% off\\n',\n",
       " '₹265₹1,49982% off\\n',\n",
       " '₹5,749₹6,39010% off\\n',\n",
       " '₹349₹1,99982% off\\n',\n",
       " '₹219₹99978% off\\n',\n",
       " '₹299₹1,59981% off\\n',\n",
       " '₹3,704₹7,79052% off\\n',\n",
       " '₹839₹1,19930% off\\n',\n",
       " '₹283₹1,29978% off\\n',\n",
       " '₹199₹79975% off\\n',\n",
       " '₹711₹1,99964% off\\n']"
      ]
     },
     "execution_count": 102,
     "metadata": {},
     "output_type": "execute_result"
    }
   ],
   "source": [
    "pri_title = []\n",
    "\n",
    "for i in pri_tag:\n",
    "    pri_title.append(i.text.replace('Free delivery',''))\n",
    "    \n",
    "pri_title"
   ]
  },
  {
   "cell_type": "code",
   "execution_count": 103,
   "id": "9941beaa",
   "metadata": {},
   "outputs": [
    {
     "data": {
      "text/plain": [
       "<selenium.webdriver.remote.webelement.WebElement (session=\"84871e3b4024b87374ed45181929e6be\", element=\"b7b0e151-6c26-41bb-bb19-2651ad69f5ce\")>"
      ]
     },
     "execution_count": 103,
     "metadata": {},
     "output_type": "execute_result"
    }
   ],
   "source": [
    "next_butns = driver.find_element(By.XPATH,\"/html/body/div[1]/div/div[3]/div[1]/div[2]/div[12]/div/div/nav/a[11]\")\n",
    "next_butns"
   ]
  },
  {
   "cell_type": "code",
   "execution_count": 104,
   "id": "acd8eaa3",
   "metadata": {},
   "outputs": [],
   "source": [
    "next_butns.click()"
   ]
  },
  {
   "cell_type": "code",
   "execution_count": 107,
   "id": "8299dcbb",
   "metadata": {},
   "outputs": [
    {
     "data": {
      "text/plain": [
       "40"
      ]
     },
     "execution_count": 107,
     "metadata": {},
     "output_type": "execute_result"
    }
   ],
   "source": [
    "# EXTRACTING NEXT 40 BRANDS NAME\n",
    "\n",
    "brands_tag = driver.find_elements(By.XPATH,'//div[@class=\"_2WkVRV\"]')\n",
    "len(brands_tag)"
   ]
  },
  {
   "cell_type": "code",
   "execution_count": 108,
   "id": "e76842c4",
   "metadata": {
    "collapsed": true
   },
   "outputs": [
    {
     "data": {
      "text/plain": [
       "['ROZZETTA CRAFT',\n",
       " 'Fastrack',\n",
       " 'Fastrack',\n",
       " 'GANSTA',\n",
       " 'Lee Topper',\n",
       " 'NuVew',\n",
       " 'LIZA ANGEL',\n",
       " 'ROZZETTA CRAFT',\n",
       " 'CRYSTAL CART',\n",
       " 'PIRASO',\n",
       " 'Fastrack',\n",
       " 'VINCENT CHASE',\n",
       " 'ROZZETTA CRAFT',\n",
       " 'ROYAL SON',\n",
       " 'Elligator',\n",
       " 'ROYAL SON',\n",
       " 'DEIXELS',\n",
       " 'ROYAL SON',\n",
       " 'SRPM',\n",
       " 'VINCENT CHASE',\n",
       " 'Silver Kartz',\n",
       " 'kingsunglasses',\n",
       " 'ROYAL SON',\n",
       " 'ROZZETTA CRAFT',\n",
       " 'PHENOMENAL',\n",
       " 'Fastrack',\n",
       " 'PIRASO',\n",
       " 'Singco India',\n",
       " 'Elligator',\n",
       " 'ROYAL SON',\n",
       " 'New Specs',\n",
       " 'ROYAL SON',\n",
       " 'Fastrack',\n",
       " 'Lee Topper',\n",
       " 'kingsunglasses',\n",
       " 'ROYAL SON',\n",
       " 'kingsunglasses',\n",
       " 'CRYSTAL CART',\n",
       " 'Singco India',\n",
       " 'ROZZETTA CRAFT']"
      ]
     },
     "execution_count": 108,
     "metadata": {},
     "output_type": "execute_result"
    }
   ],
   "source": [
    "brands_title = []\n",
    "\n",
    "for i in brands_tag:\n",
    "    brands_title.append(i.text)\n",
    "    \n",
    "brands_title"
   ]
  },
  {
   "cell_type": "code",
   "execution_count": 109,
   "id": "6106c57e",
   "metadata": {},
   "outputs": [
    {
     "data": {
      "text/plain": [
       "40"
      ]
     },
     "execution_count": 109,
     "metadata": {},
     "output_type": "execute_result"
    }
   ],
   "source": [
    "# EXTRACTING NEXT 40 PRODUCT DESCRIPTION \n",
    "# lets extraxt all web elements having PRODUCT DESCRIPTION\n",
    "\n",
    "prods_tag = driver.find_elements(By.XPATH,'//a[@class=\"IRpwTa\"]')\n",
    "len(prods_tag)"
   ]
  },
  {
   "cell_type": "code",
   "execution_count": 110,
   "id": "c0f7b447",
   "metadata": {
    "collapsed": true
   },
   "outputs": [
    {
     "data": {
      "text/plain": [
       "['UV Protection Rectangular Sunglasses (Free Size)',\n",
       " 'UV Protection Wayfarer Sunglasses (Free Size)',\n",
       " 'UV Protection Wayfarer Sunglasses (Free Size)',\n",
       " 'UV Protection Aviator Sunglasses (57)',\n",
       " 'UV Protection Rectangular Sunglasses (Free Size)',\n",
       " 'UV Protection Sports Sunglasses (62)',\n",
       " 'Riding Glasses, Night Vision Spectacle Sunglasses (Fre...',\n",
       " 'UV Protection, Gradient Round Sunglasses (Free Size)',\n",
       " 'Mirrored, Night Vision Oval Sunglasses (Free Size)',\n",
       " 'UV Protection Aviator Sunglasses (55)',\n",
       " 'Gradient, UV Protection Wayfarer Sunglasses (Free Size)',\n",
       " 'by Lenskart Polarized, UV Protection Cat-eye Sunglasses...',\n",
       " 'UV Protection, Gradient Rectangular Sunglasses (Free Si...',\n",
       " 'Mirrored Aviator Sunglasses (Free Size)',\n",
       " 'UV Protection Round Sunglasses (53)',\n",
       " 'Polarized, UV Protection Aviator Sunglasses (57)',\n",
       " 'UV Protection Aviator Sunglasses (Free Size)',\n",
       " 'Mirrored Aviator Sunglasses (58)',\n",
       " 'UV Protection Wayfarer Sunglasses (53)',\n",
       " 'by Lenskart Polarized, UV Protection Aviator Sunglasses...',\n",
       " 'UV Protection Wayfarer Sunglasses (Free Size)',\n",
       " 'UV Protection Round Sunglasses (54)',\n",
       " 'Mirrored Aviator Sunglasses (55)',\n",
       " 'UV Protection Spectacle Sunglasses (Free Size)',\n",
       " 'UV Protection Retro Square Sunglasses (Free Size)',\n",
       " 'UV Protection Aviator Sunglasses (58)',\n",
       " 'UV Protection Aviator Sunglasses (54)',\n",
       " 'Riding Glasses, UV Protection, Others Aviator Sunglasse...',\n",
       " 'UV Protection, Riding Glasses Rectangular, Retro Square...',\n",
       " 'Mirrored Aviator Sunglasses (55)',\n",
       " 'UV Protection Round Sunglasses (Free Size)',\n",
       " 'Polarized, UV Protection Retro Square Sunglasses (55)',\n",
       " 'Mirrored, UV Protection Wayfarer Sunglasses (Free Size)',\n",
       " 'UV Protection Round Sunglasses (Free Size)',\n",
       " 'UV Protection Rectangular Sunglasses (55)',\n",
       " 'Polarized, UV Protection Wayfarer, Retro Square Sunglas...',\n",
       " 'UV Protection, Mirrored Aviator Sunglasses (Free Size)',\n",
       " 'Polarized, UV Protection, Mirrored, Gradient Rectangula...',\n",
       " 'Gradient, Toughened Glass Lens, UV Protection Retro Squ...',\n",
       " 'UV Protection, Riding Glasses Rectangular Sunglasses (F...']"
      ]
     },
     "execution_count": 110,
     "metadata": {},
     "output_type": "execute_result"
    }
   ],
   "source": [
    "prods_title = []\n",
    "\n",
    "for i in prods_tag:\n",
    "    prods_title.append(i.text)\n",
    "    \n",
    "prods_title"
   ]
  },
  {
   "cell_type": "code",
   "execution_count": 111,
   "id": "93910dd1",
   "metadata": {},
   "outputs": [
    {
     "data": {
      "text/plain": [
       "40"
      ]
     },
     "execution_count": 111,
     "metadata": {},
     "output_type": "execute_result"
    }
   ],
   "source": [
    "# EXTRACTING THE  NEXT 40 PRICE\n",
    "# lets extraxt all web elements having PRICE\n",
    "\n",
    "pric_tag = driver.find_elements(By.XPATH,'//a[@class=\"_3bPFwb\"]')\n",
    "len(pric_tag)"
   ]
  },
  {
   "cell_type": "code",
   "execution_count": 112,
   "id": "f778501a",
   "metadata": {
    "collapsed": true
   },
   "outputs": [
    {
     "data": {
      "text/plain": [
       "['₹303₹1,49979% off',\n",
       " '₹759₹89915% off',\n",
       " '₹759₹89915% off',\n",
       " '₹314₹1,99984% off\\n',\n",
       " '₹219₹99978% off',\n",
       " '₹345₹1,24572% off\\n',\n",
       " '₹199₹99980% off\\n',\n",
       " '₹379₹1,99981% off\\n',\n",
       " '₹189₹59968% off\\n',\n",
       " '₹246₹1,59984% off\\n',\n",
       " '₹719₹89920% off',\n",
       " '₹949₹1,99952% off\\n',\n",
       " '₹399₹1,99980% off',\n",
       " '₹379₹1,49974% off\\n',\n",
       " '₹219₹99878% off',\n",
       " '₹759₹1,99962% off\\n',\n",
       " '₹236₹1,19980% off\\n',\n",
       " '₹379₹1,49974% off\\n',\n",
       " '₹277₹99872% off\\n',\n",
       " '₹949₹1,99952% off\\n',\n",
       " '₹288₹1,49980% off\\n',\n",
       " '₹214₹99978% off\\n',\n",
       " '₹379₹1,49974% off',\n",
       " '₹379₹1,99981% off\\n',\n",
       " '₹369₹1,99981% off\\n',\n",
       " '₹1,039₹1,29920% off\\n',\n",
       " '₹223₹1,59986% off\\n',\n",
       " '₹232₹1,49984% off\\n',\n",
       " '₹379₹1,49974% off',\n",
       " '₹379₹1,49974% off\\n',\n",
       " '₹268₹1,29979% off',\n",
       " '₹616₹1,99969% off\\n',\n",
       " '₹899₹99910% off',\n",
       " '₹245₹99975% off\\n',\n",
       " '₹189₹1,29985% off',\n",
       " '₹664₹1,99966% off\\n',\n",
       " '₹269₹1,89985% off\\n',\n",
       " '₹529₹2,09974% off\\n',\n",
       " '₹598₹2,99980% off',\n",
       " '₹426₹2,22580% off\\n']"
      ]
     },
     "execution_count": 112,
     "metadata": {},
     "output_type": "execute_result"
    }
   ],
   "source": [
    "pric_title = []\n",
    "\n",
    "for i in pric_tag:\n",
    "    pric_title.append(i.text.replace('Free delivery',''))\n",
    "    \n",
    "pric_title"
   ]
  },
  {
   "cell_type": "code",
   "execution_count": 115,
   "id": "3fdc5045",
   "metadata": {},
   "outputs": [
    {
     "data": {
      "text/plain": [
       "<selenium.webdriver.remote.webelement.WebElement (session=\"84871e3b4024b87374ed45181929e6be\", element=\"b7b0e151-6c26-41bb-bb19-2651ad69f5ce\")>"
      ]
     },
     "execution_count": 115,
     "metadata": {},
     "output_type": "execute_result"
    }
   ],
   "source": [
    "nxt_butns = driver.find_element(By.XPATH,\"/html/body/div[1]/div/div[3]/div[1]/div[2]/div[12]/div/div/nav/a[12]\")\n",
    "nxt_butns"
   ]
  },
  {
   "cell_type": "code",
   "execution_count": 116,
   "id": "c9b7d4cb",
   "metadata": {},
   "outputs": [],
   "source": [
    "nxt_butns.click()"
   ]
  },
  {
   "cell_type": "code",
   "execution_count": 118,
   "id": "358939fa",
   "metadata": {},
   "outputs": [
    {
     "data": {
      "text/plain": [
       "40"
      ]
     },
     "execution_count": 118,
     "metadata": {},
     "output_type": "execute_result"
    }
   ],
   "source": [
    "# EXTRACTING NEXT 20 BRANDS NAME\n",
    "\n",
    "brnds_tag = driver.find_elements(By.XPATH,'//div[@class=\"_2WkVRV\"]')\n",
    "len(brnds_tag)"
   ]
  },
  {
   "cell_type": "code",
   "execution_count": 120,
   "id": "e39510a9",
   "metadata": {
    "collapsed": true
   },
   "outputs": [
    {
     "data": {
      "text/plain": [
       "['Fastrack',\n",
       " 'VINCENT CHASE',\n",
       " 'AISLIN',\n",
       " 'DEIXELS',\n",
       " 'Lee Topper',\n",
       " 'VINCENT CHASE',\n",
       " 'kingsunglasses',\n",
       " 'povty',\n",
       " 'ROYAL SON',\n",
       " 'ROZZETTA CRAFT',\n",
       " 'Rich Club',\n",
       " 'ROYAL SON',\n",
       " 'Fastrack',\n",
       " 'New Specs',\n",
       " 'ROYAL SON',\n",
       " 'ROYAL SON',\n",
       " 'kingsunglasses',\n",
       " 'AISLIN',\n",
       " 'ROYAL SON',\n",
       " 'ROZZETTA CRAFT']"
      ]
     },
     "execution_count": 120,
     "metadata": {},
     "output_type": "execute_result"
    }
   ],
   "source": [
    "brnds_title = []\n",
    "\n",
    "for i in brnds_tag:\n",
    "    brnds_title.append(i.text)\n",
    "    \n",
    "brnds_title[0:20]"
   ]
  },
  {
   "cell_type": "code",
   "execution_count": 121,
   "id": "c8f5cf83",
   "metadata": {},
   "outputs": [
    {
     "data": {
      "text/plain": [
       "40"
      ]
     },
     "execution_count": 121,
     "metadata": {},
     "output_type": "execute_result"
    }
   ],
   "source": [
    "# EXTRACTING NEXT 20 PRODUCT DESCRIPTION \n",
    "# lets extraxt all web elements having PRODUCT DESCRIPTION\n",
    "\n",
    "produ_tag = driver.find_elements(By.XPATH,'//a[@class=\"IRpwTa\"]')\n",
    "len(produ_tag)"
   ]
  },
  {
   "cell_type": "code",
   "execution_count": 122,
   "id": "15f5c7b9",
   "metadata": {
    "collapsed": true
   },
   "outputs": [
    {
     "data": {
      "text/plain": [
       "['UV Protection Wayfarer Sunglasses (55)',\n",
       " 'by Lenskart Polarized, UV Protection Wayfarer Sunglasse...',\n",
       " 'UV Protection, Gradient Butterfly, Retro Square Sunglas...',\n",
       " 'UV Protection Aviator Sunglasses (Free Size)',\n",
       " 'Riding Glasses, Night Vision Wrap-around Sunglasses (Fr...',\n",
       " 'by Lenskart Polarized, UV Protection Rectangular Sungla...',\n",
       " 'Mirrored, UV Protection Wayfarer Sunglasses (Free Size)',\n",
       " 'UV Protection Retro Square Sunglasses (Free Size)',\n",
       " 'UV Protection, Gradient Butterfly Sunglasses (62)',\n",
       " 'UV Protection, Gradient Round Sunglasses (Free Size)',\n",
       " 'UV Protection, Others Round Sunglasses (48)',\n",
       " 'Polarized, UV Protection Retro Square Sunglasses (55)',\n",
       " 'UV Protection Wayfarer Sunglasses (Free Size)',\n",
       " 'UV Protection Rectangular Sunglasses (Free Size)',\n",
       " 'UV Protection, Gradient Wayfarer Sunglasses (55)',\n",
       " 'Polarized, UV Protection Wayfarer, Retro Square Sunglas...',\n",
       " 'UV Protection Rectangular Sunglasses (55)',\n",
       " 'UV Protection, Gradient Oval Sunglasses (58)',\n",
       " 'Polarized Rectangular Sunglasses (60)',\n",
       " 'UV Protection, Riding Glasses Rectangular Sunglasses (F...']"
      ]
     },
     "execution_count": 122,
     "metadata": {},
     "output_type": "execute_result"
    }
   ],
   "source": [
    "produ_title = []\n",
    "\n",
    "for i in produ_tag:\n",
    "    produ_title.append(i.text)\n",
    "    \n",
    "produ_title[0:20]"
   ]
  },
  {
   "cell_type": "code",
   "execution_count": 123,
   "id": "e7a59251",
   "metadata": {},
   "outputs": [
    {
     "data": {
      "text/plain": [
       "40"
      ]
     },
     "execution_count": 123,
     "metadata": {},
     "output_type": "execute_result"
    }
   ],
   "source": [
    "# EXTRACTING THE  NEXT 20 PRICE\n",
    "# lets extraxt all web elements having PRICE\n",
    "\n",
    "price_tag = driver.find_elements(By.XPATH,'//a[@class=\"_3bPFwb\"]')\n",
    "len(price_tag)"
   ]
  },
  {
   "cell_type": "code",
   "execution_count": 125,
   "id": "9db875bd",
   "metadata": {
    "collapsed": true
   },
   "outputs": [
    {
     "data": {
      "text/plain": [
       "['₹735₹7998% off',\n",
       " '₹749₹2,50070% off',\n",
       " '₹498₹1,52567% off\\n',\n",
       " '₹236₹1,19980% off\\n',\n",
       " '₹276₹2,49988% off\\n',\n",
       " '₹749₹1,99962% off',\n",
       " '₹269₹1,49982% off\\n',\n",
       " '₹319₹99968% off\\n',\n",
       " '₹699₹1,99965% off\\n',\n",
       " '₹379₹1,99981% off\\n',\n",
       " '₹260₹79967% off\\n',\n",
       " '₹616₹1,99969% off\\n',\n",
       " '₹599₹79925% off\\n',\n",
       " '₹189₹1,59988% off\\n',\n",
       " '₹217₹99978% off\\n',\n",
       " '₹664₹1,99966% off\\n',\n",
       " '₹269₹1,49982% off\\n',\n",
       " '₹498₹1,52567% off\\n',\n",
       " '₹664₹1,99966% off\\n',\n",
       " '₹426₹2,22580% off\\n']"
      ]
     },
     "execution_count": 125,
     "metadata": {},
     "output_type": "execute_result"
    }
   ],
   "source": [
    "price_title = []\n",
    "\n",
    "for i in price_tag:\n",
    "    price_title.append(i.text.replace('Free delivery',''))\n",
    "    \n",
    "price_title[0:20]"
   ]
  },
  {
   "cell_type": "code",
   "execution_count": null,
   "id": "4f9310ec",
   "metadata": {},
   "outputs": [],
   "source": []
  },
  {
   "cell_type": "code",
   "execution_count": null,
   "id": "f8b0c7dc",
   "metadata": {},
   "outputs": [],
   "source": []
  },
  {
   "cell_type": "markdown",
   "id": "a6383ca9",
   "metadata": {},
   "source": [
    "# Q5) -  Scrape 100 reviews data from flipkart.com for iphone11 phone"
   ]
  },
  {
   "cell_type": "code",
   "execution_count": 550,
   "id": "2e997b6d",
   "metadata": {},
   "outputs": [],
   "source": [
    "url = \"http://www.flipkart.com/\"\n",
    "driver.get(url)"
   ]
  },
  {
   "cell_type": "code",
   "execution_count": 551,
   "id": "151110d7",
   "metadata": {},
   "outputs": [
    {
     "data": {
      "text/plain": [
       "<selenium.webdriver.remote.webelement.WebElement (session=\"d898df33fc1a366dab64ceff57957d1e\", element=\"9b72faed-e452-4755-bee5-c67e801b668f\")>"
      ]
     },
     "execution_count": 551,
     "metadata": {},
     "output_type": "execute_result"
    }
   ],
   "source": [
    "srchs_de = driver.find_element(By.XPATH,\"/html/body/div[1]/div/div[1]/div[1]/div[2]/div[2]/form/div/div/input\")\n",
    "srchs_de"
   ]
  },
  {
   "cell_type": "code",
   "execution_count": 552,
   "id": "862c8964",
   "metadata": {},
   "outputs": [],
   "source": [
    "srchs_de.send_keys(\"iphone 11\")"
   ]
  },
  {
   "cell_type": "code",
   "execution_count": 553,
   "id": "2675432b",
   "metadata": {},
   "outputs": [
    {
     "data": {
      "text/plain": [
       "<selenium.webdriver.remote.webelement.WebElement (session=\"d898df33fc1a366dab64ceff57957d1e\", element=\"9ba47f26-4d23-4657-b4b7-a206b7738a5d\")>"
      ]
     },
     "execution_count": 553,
     "metadata": {},
     "output_type": "execute_result"
    }
   ],
   "source": [
    "srchs_butns = driver.find_element(By.XPATH,\"/html/body/div[1]/div/div[1]/div[1]/div[2]/div[2]/form/div/button\")\n",
    "srchs_butns"
   ]
  },
  {
   "cell_type": "code",
   "execution_count": 554,
   "id": "db492b3f",
   "metadata": {},
   "outputs": [],
   "source": [
    "srchs_butns.click()"
   ]
  },
  {
   "cell_type": "code",
   "execution_count": 555,
   "id": "b1f59828",
   "metadata": {},
   "outputs": [
    {
     "data": {
      "text/plain": [
       "<selenium.webdriver.remote.webelement.WebElement (session=\"d898df33fc1a366dab64ceff57957d1e\", element=\"1a0b0619-69c7-4a34-8ad0-b8398e1e7d81\")>"
      ]
     },
     "execution_count": 555,
     "metadata": {},
     "output_type": "execute_result"
    }
   ],
   "source": [
    "rev_but = driver.find_element(By.XPATH,\"/html/body/div/div/div[3]/div[1]/div[2]/div[2]/div/div/div/a/div[2]/div[1]/div[2]/span[2]\")\n",
    "rev_but"
   ]
  },
  {
   "cell_type": "code",
   "execution_count": 556,
   "id": "5fdfa024",
   "metadata": {},
   "outputs": [],
   "source": [
    "rev_but.click()"
   ]
  },
  {
   "cell_type": "code",
   "execution_count": 562,
   "id": "d6acf8c0",
   "metadata": {},
   "outputs": [
    {
     "data": {
      "text/plain": [
       "0"
      ]
     },
     "execution_count": 562,
     "metadata": {},
     "output_type": "execute_result"
    }
   ],
   "source": [
    "# extracting the reviews summary\n",
    "ra = driver.find_elements(By.XPATH,'//div[@class=\"t-ZTKy\"]')\n",
    "len(ra)"
   ]
  },
  {
   "cell_type": "code",
   "execution_count": 358,
   "id": "bdabc17a",
   "metadata": {},
   "outputs": [],
   "source": [
    "# not showing the same page as shown in the question and when i manage to do this then it not picking any web element as shown in the above cell"
   ]
  },
  {
   "cell_type": "code",
   "execution_count": null,
   "id": "aba3f905",
   "metadata": {},
   "outputs": [],
   "source": []
  },
  {
   "cell_type": "markdown",
   "id": "cabdfc67",
   "metadata": {},
   "source": [
    "# Q6)-  Scrape data for first 100 sneakers you find when you visit flipkart.com \n",
    "\n"
   ]
  },
  {
   "cell_type": "code",
   "execution_count": null,
   "id": "bb11fdf7",
   "metadata": {},
   "outputs": [],
   "source": [
    "url = \"http://www.flipkart.com/\"\n",
    "driver.get(url)"
   ]
  },
  {
   "cell_type": "code",
   "execution_count": 152,
   "id": "eb35eeda",
   "metadata": {},
   "outputs": [
    {
     "data": {
      "text/plain": [
       "<selenium.webdriver.remote.webelement.WebElement (session=\"84871e3b4024b87374ed45181929e6be\", element=\"6e39b754-5eed-47cf-8cb4-6e7e4988b70e\")>"
      ]
     },
     "execution_count": 152,
     "metadata": {},
     "output_type": "execute_result"
    }
   ],
   "source": [
    "srch_devl = driver.find_element(By.XPATH,\"/html/body/div[1]/div/div[1]/div[1]/div[2]/div[2]/form/div/div/input\")\n",
    "srch_devl"
   ]
  },
  {
   "cell_type": "code",
   "execution_count": 154,
   "id": "4d6ff870",
   "metadata": {},
   "outputs": [],
   "source": [
    "srch_devl.send_keys(\"sneakers\")"
   ]
  },
  {
   "cell_type": "code",
   "execution_count": 155,
   "id": "48f92050",
   "metadata": {},
   "outputs": [
    {
     "data": {
      "text/plain": [
       "<selenium.webdriver.remote.webelement.WebElement (session=\"84871e3b4024b87374ed45181929e6be\", element=\"ebd5f627-5ad6-427b-8ca4-dc8d4316dc86\")>"
      ]
     },
     "execution_count": 155,
     "metadata": {},
     "output_type": "execute_result"
    }
   ],
   "source": [
    "srchin_butns = driver.find_element(By.XPATH,\"/html/body/div[1]/div/div[1]/div[1]/div[2]/div[2]/form/div/button\")\n",
    "srchin_butns"
   ]
  },
  {
   "cell_type": "code",
   "execution_count": 156,
   "id": "906b092c",
   "metadata": {},
   "outputs": [],
   "source": [
    "srchin_butns.click()"
   ]
  },
  {
   "cell_type": "code",
   "execution_count": 157,
   "id": "7a545c64",
   "metadata": {},
   "outputs": [
    {
     "data": {
      "text/plain": [
       "40"
      ]
     },
     "execution_count": 157,
     "metadata": {},
     "output_type": "execute_result"
    }
   ],
   "source": [
    "# EXTRACTING THE BRAND \n",
    "# lets extraxt all web elements having BRAND\n",
    "\n",
    "brand_tagi = driver.find_elements(By.XPATH,'//div[@class=\"_2WkVRV\"]')\n",
    "len(brand_tagi)"
   ]
  },
  {
   "cell_type": "code",
   "execution_count": 158,
   "id": "a19eb5e9",
   "metadata": {
    "collapsed": true
   },
   "outputs": [
    {
     "data": {
      "text/plain": [
       "['HOTSTYLE',\n",
       " 'KNIGHT WALKERS',\n",
       " 'WOODLAND',\n",
       " 'BRUTON',\n",
       " 'BRUTON',\n",
       " 'Magnolia',\n",
       " 'URBANBOX',\n",
       " 'LOUIS PHILIPPE',\n",
       " 'BIRDE',\n",
       " 'Labbin',\n",
       " 'aadi',\n",
       " 'T-ROCK',\n",
       " 'BIRDE',\n",
       " 'ONECENTRE',\n",
       " 'PUMA',\n",
       " 'RapidBox',\n",
       " 'SFR',\n",
       " 'PUMA',\n",
       " 'HOTSTYLE',\n",
       " 'Scull Wings',\n",
       " 'corsac',\n",
       " 'ASTEROID',\n",
       " 'KWIK FIT',\n",
       " 'Bacan',\n",
       " 'CLYMB',\n",
       " 'PUMA',\n",
       " 'Chevit',\n",
       " 'HOTSTYLE',\n",
       " 'BRUTON',\n",
       " 'SCATCHITE',\n",
       " 'BIRDE',\n",
       " 'HOTSTYLE',\n",
       " 'Kraasa',\n",
       " 'Kraasa',\n",
       " 'Kraasa',\n",
       " 'RapidBox',\n",
       " 'Robbie jones',\n",
       " 'Kzaara',\n",
       " 'BIRDE',\n",
       " 'RapidBox']"
      ]
     },
     "execution_count": 158,
     "metadata": {},
     "output_type": "execute_result"
    }
   ],
   "source": [
    "brand_titlea = []\n",
    "\n",
    "for i in brand_tagi:\n",
    "    brand_titlea.append(i.text)\n",
    "    \n",
    "brand_titlea"
   ]
  },
  {
   "cell_type": "code",
   "execution_count": 161,
   "id": "cddef16d",
   "metadata": {
    "collapsed": true
   },
   "outputs": [
    {
     "data": {
      "text/plain": [
       "[<selenium.webdriver.remote.webelement.WebElement (session=\"84871e3b4024b87374ed45181929e6be\", element=\"03f2110c-2b06-45d8-be42-ef89c0e065ba\")>,\n",
       " <selenium.webdriver.remote.webelement.WebElement (session=\"84871e3b4024b87374ed45181929e6be\", element=\"23fb6dda-53b2-489b-8d0c-a2f273dbbc0b\")>,\n",
       " <selenium.webdriver.remote.webelement.WebElement (session=\"84871e3b4024b87374ed45181929e6be\", element=\"7aedce38-db3b-43b4-9166-26f8b918b805\")>,\n",
       " <selenium.webdriver.remote.webelement.WebElement (session=\"84871e3b4024b87374ed45181929e6be\", element=\"13214128-0796-48cc-b8a6-ee18022bd780\")>,\n",
       " <selenium.webdriver.remote.webelement.WebElement (session=\"84871e3b4024b87374ed45181929e6be\", element=\"d6ae6663-87bb-44ae-865e-cbc537c99778\")>,\n",
       " <selenium.webdriver.remote.webelement.WebElement (session=\"84871e3b4024b87374ed45181929e6be\", element=\"72fe59ab-2052-467e-a9b5-a3a19885b37b\")>,\n",
       " <selenium.webdriver.remote.webelement.WebElement (session=\"84871e3b4024b87374ed45181929e6be\", element=\"b99479c2-f054-4faf-90c6-84130f023d57\")>,\n",
       " <selenium.webdriver.remote.webelement.WebElement (session=\"84871e3b4024b87374ed45181929e6be\", element=\"09270316-c1b8-4558-8157-cc13ed39be4a\")>,\n",
       " <selenium.webdriver.remote.webelement.WebElement (session=\"84871e3b4024b87374ed45181929e6be\", element=\"968ef0b0-403c-461a-9649-047204944193\")>,\n",
       " <selenium.webdriver.remote.webelement.WebElement (session=\"84871e3b4024b87374ed45181929e6be\", element=\"0e90a86a-a88c-43bf-94cf-0389ced0e26c\")>,\n",
       " <selenium.webdriver.remote.webelement.WebElement (session=\"84871e3b4024b87374ed45181929e6be\", element=\"aaa74be3-54bd-4cd9-bdf4-e9899da12528\")>,\n",
       " <selenium.webdriver.remote.webelement.WebElement (session=\"84871e3b4024b87374ed45181929e6be\", element=\"007dc370-4755-4255-a906-32b5187f488d\")>,\n",
       " <selenium.webdriver.remote.webelement.WebElement (session=\"84871e3b4024b87374ed45181929e6be\", element=\"e125e34f-f2b1-452c-b8ae-757be9a16cc6\")>,\n",
       " <selenium.webdriver.remote.webelement.WebElement (session=\"84871e3b4024b87374ed45181929e6be\", element=\"71b68996-b79c-40c1-b1d7-b308b8c5f295\")>,\n",
       " <selenium.webdriver.remote.webelement.WebElement (session=\"84871e3b4024b87374ed45181929e6be\", element=\"c7c65534-fb63-4e40-bdb3-85c01c7f8c13\")>,\n",
       " <selenium.webdriver.remote.webelement.WebElement (session=\"84871e3b4024b87374ed45181929e6be\", element=\"5e85e6d6-aefa-44e0-b4ed-f96282b3c03c\")>,\n",
       " <selenium.webdriver.remote.webelement.WebElement (session=\"84871e3b4024b87374ed45181929e6be\", element=\"361a700a-dcf1-4bf0-aebd-4a9c60eeca50\")>,\n",
       " <selenium.webdriver.remote.webelement.WebElement (session=\"84871e3b4024b87374ed45181929e6be\", element=\"4483968b-4b18-40a4-9891-dad1dbb3bd04\")>,\n",
       " <selenium.webdriver.remote.webelement.WebElement (session=\"84871e3b4024b87374ed45181929e6be\", element=\"a38da97f-50db-4e67-96a0-ed8ddf935fe6\")>,\n",
       " <selenium.webdriver.remote.webelement.WebElement (session=\"84871e3b4024b87374ed45181929e6be\", element=\"62554c8b-a398-4601-83f9-34987b6aa2a5\")>,\n",
       " <selenium.webdriver.remote.webelement.WebElement (session=\"84871e3b4024b87374ed45181929e6be\", element=\"58290729-7e42-4ab2-965d-4417797d4837\")>,\n",
       " <selenium.webdriver.remote.webelement.WebElement (session=\"84871e3b4024b87374ed45181929e6be\", element=\"84e3539d-a127-408c-8d50-7c91baba45f4\")>,\n",
       " <selenium.webdriver.remote.webelement.WebElement (session=\"84871e3b4024b87374ed45181929e6be\", element=\"e90452fa-07d4-409e-bd3f-4619b6b0a687\")>,\n",
       " <selenium.webdriver.remote.webelement.WebElement (session=\"84871e3b4024b87374ed45181929e6be\", element=\"6c5b67b1-f9d4-40bf-b88a-97157ee1ca7e\")>,\n",
       " <selenium.webdriver.remote.webelement.WebElement (session=\"84871e3b4024b87374ed45181929e6be\", element=\"e083bc43-e4ab-4810-9460-7b5ab7dbf2bf\")>,\n",
       " <selenium.webdriver.remote.webelement.WebElement (session=\"84871e3b4024b87374ed45181929e6be\", element=\"a22ecbe4-b9a5-4496-807d-7714eab4c497\")>,\n",
       " <selenium.webdriver.remote.webelement.WebElement (session=\"84871e3b4024b87374ed45181929e6be\", element=\"0371b6c4-8535-4218-9f02-9b094ecf4627\")>,\n",
       " <selenium.webdriver.remote.webelement.WebElement (session=\"84871e3b4024b87374ed45181929e6be\", element=\"5f1b8501-4ba7-4d8c-a48e-1d05018bea5f\")>,\n",
       " <selenium.webdriver.remote.webelement.WebElement (session=\"84871e3b4024b87374ed45181929e6be\", element=\"6f7d2ec8-9cb7-4467-a7f7-42babaa8aada\")>,\n",
       " <selenium.webdriver.remote.webelement.WebElement (session=\"84871e3b4024b87374ed45181929e6be\", element=\"d4d1a540-01eb-4604-8187-e52cdbf7e15a\")>,\n",
       " <selenium.webdriver.remote.webelement.WebElement (session=\"84871e3b4024b87374ed45181929e6be\", element=\"3f80b32a-7b87-4d63-9b45-b1788224e1e8\")>,\n",
       " <selenium.webdriver.remote.webelement.WebElement (session=\"84871e3b4024b87374ed45181929e6be\", element=\"e4b09014-eeaa-47c0-a974-468d791a34e6\")>,\n",
       " <selenium.webdriver.remote.webelement.WebElement (session=\"84871e3b4024b87374ed45181929e6be\", element=\"152dc30b-eea6-46b0-ba95-ce3a6d434b2f\")>,\n",
       " <selenium.webdriver.remote.webelement.WebElement (session=\"84871e3b4024b87374ed45181929e6be\", element=\"fb91c642-e05e-49e8-986d-ef85df37fb7d\")>]"
      ]
     },
     "execution_count": 161,
     "metadata": {},
     "output_type": "execute_result"
    }
   ],
   "source": [
    "# EXTRACTING THE PRODUCT DESCRIPTION \n",
    "# lets extraxt all web elements having PRODUCT DESCRIPTION\n",
    "\n",
    "proda_tag = driver.find_elements(By.XPATH,'//a[@class=\"IRpwTa\"]')\n",
    "proda_tag"
   ]
  },
  {
   "cell_type": "code",
   "execution_count": 162,
   "id": "35339213",
   "metadata": {
    "collapsed": true
   },
   "outputs": [
    {
     "data": {
      "text/plain": [
       "['Mike Stylish & Trendy Sneakers For Men',\n",
       " 'SS1100 Sneakers For Men',\n",
       " 'Sneakers For Men',\n",
       " 'Modern Trendy Sneakers Shoes Sneakers For Men',\n",
       " 'Modern Trendy Sneakers Shoes Sneakers For Men',\n",
       " 'Sneakers For Men',\n",
       " 'Sneakers For Men',\n",
       " 'Stylish Comfortable Lightweight, Breathable Walking Sho...',\n",
       " 'Sneakers For Men',\n",
       " 'Sneakers For Men',\n",
       " 'Stylish White Casual Walking Sneakers Shoes For Men and...',\n",
       " 'Stylish Comfortable Lightweight, Breathable Walking Sho...',\n",
       " 'STR2 Sneakers For Men',\n",
       " 'Puma Smash v2 L Sneakers For Men',\n",
       " 'Sneakers For Men',\n",
       " 'Smash v2 L Sneakers For Men',\n",
       " 'Sneakers For Men',\n",
       " 'STYLISH MENS BLACK SNEAKER Sneakers For Men',\n",
       " \"Original Luxury Branded Fashionable Men's Casual Walkin...\",\n",
       " 'Kwik FIT casual sneaker shoes and partywear shoes Casua...',\n",
       " 'Sneakers For Men',\n",
       " 'Sneakers For Men',\n",
       " 'Smash v2 L White- Black Sneakers For Men',\n",
       " 'Super Stylish & Trendy Combo Pack of 02 Pairs Sneakers ...',\n",
       " 'Sneaker Sneakers For Men',\n",
       " 'Sneakers Sneakers For Men',\n",
       " 'Stylish Comfortable Lightweight, Breathable Casual Walk...',\n",
       " 'CR-1 Sneakers For Men',\n",
       " 'Shark-41 Sneakers For Men',\n",
       " 'Casuals, Canvas, Partywear Sneakers For Men',\n",
       " 'Series 7 Sneakers For Men',\n",
       " 'Casual Sneakers Canvas Shoes For Men Sneakers For Men',\n",
       " 'Sneakers For Men',\n",
       " 'Sports Running Shoes Sneakers For Men']"
      ]
     },
     "execution_count": 162,
     "metadata": {},
     "output_type": "execute_result"
    }
   ],
   "source": [
    "proda_title = []\n",
    "\n",
    "for i in proda_tag:\n",
    "    proda_title.append(i.text)\n",
    "    \n",
    "proda_title"
   ]
  },
  {
   "cell_type": "code",
   "execution_count": 163,
   "id": "19b2cde9",
   "metadata": {},
   "outputs": [
    {
     "data": {
      "text/plain": [
       "40"
      ]
     },
     "execution_count": 163,
     "metadata": {},
     "output_type": "execute_result"
    }
   ],
   "source": [
    "# EXTRACTING THE PRICE\n",
    "# lets extraxt all web elements having PRICE\n",
    "\n",
    "prices_tag = driver.find_elements(By.XPATH,'//a[@class=\"_3bPFwb\"]')\n",
    "len(prices_tag)"
   ]
  },
  {
   "cell_type": "code",
   "execution_count": 164,
   "id": "ddee7aad",
   "metadata": {
    "collapsed": true
   },
   "outputs": [
    {
     "data": {
      "text/plain": [
       "['₹299₹49940% off',\n",
       " '₹699₹1,99965% off',\n",
       " '₹2,096₹2,99530% off',\n",
       " '₹269₹1,29979% off\\n',\n",
       " '₹299₹1,29976% off',\n",
       " '₹449₹99955% off',\n",
       " '₹198₹99980% off',\n",
       " '₹2,399₹3,99940% off\\n',\n",
       " '₹378₹99962% off\\n',\n",
       " '₹499₹99950% off\\n',\n",
       " '₹319₹99968% off',\n",
       " '₹498₹99950% off\\n',\n",
       " '₹335₹99966% off\\n',\n",
       " '₹299₹60050% off\\n',\n",
       " '₹1,763₹3,49949% off',\n",
       " '₹630₹99936% off',\n",
       " '₹289₹99971% off\\n',\n",
       " '₹2,073₹3,49940% off\\n',\n",
       " '₹258₹99874% off',\n",
       " '₹496₹1,29961% off\\n',\n",
       " '₹499₹1,49966% off\\n',\n",
       " '₹474₹1,99976% off\\n',\n",
       " '₹397₹1,99980% off',\n",
       " '₹526₹99947% off\\n',\n",
       " '₹616₹1,49958% off\\n',\n",
       " '₹2,029₹3,49942% off\\n',\n",
       " '₹649₹1,89865% off',\n",
       " '₹195₹49960% off',\n",
       " '₹269₹1,29979% off\\n',\n",
       " '₹399₹99960% off\\n',\n",
       " '₹335₹99966% off\\n',\n",
       " '₹268₹49946% off\\n',\n",
       " '₹479₹99952% off\\n',\n",
       " '₹479₹99952% off\\n',\n",
       " '₹479₹99952% off\\n',\n",
       " '₹590₹99940% off',\n",
       " '₹499₹99950% off\\n',\n",
       " '₹259₹99974% off\\n',\n",
       " '₹249₹99875% off\\n',\n",
       " '₹620₹99937% off']"
      ]
     },
     "execution_count": 164,
     "metadata": {},
     "output_type": "execute_result"
    }
   ],
   "source": [
    "prices_title = []\n",
    "\n",
    "for i in prices_tag:\n",
    "    prices_title.append(i.text.replace('Free delivery',''))\n",
    "    \n",
    "prices_title"
   ]
  },
  {
   "cell_type": "code",
   "execution_count": 165,
   "id": "b0691301",
   "metadata": {},
   "outputs": [
    {
     "data": {
      "text/plain": [
       "<selenium.webdriver.remote.webelement.WebElement (session=\"84871e3b4024b87374ed45181929e6be\", element=\"97b54679-abcd-461a-9a2a-f7a1664a8a33\")>"
      ]
     },
     "execution_count": 165,
     "metadata": {},
     "output_type": "execute_result"
    }
   ],
   "source": [
    "nextss_butns = driver.find_element(By.XPATH,\"/html/body/div/div/div[3]/div[1]/div[2]/div[12]/div/div/nav/a[11]/span\")\n",
    "nextss_butns"
   ]
  },
  {
   "cell_type": "code",
   "execution_count": 166,
   "id": "61b88709",
   "metadata": {},
   "outputs": [],
   "source": [
    "nextss_butns.click()"
   ]
  },
  {
   "cell_type": "code",
   "execution_count": 167,
   "id": "538cb8a1",
   "metadata": {},
   "outputs": [
    {
     "data": {
      "text/plain": [
       "40"
      ]
     },
     "execution_count": 167,
     "metadata": {},
     "output_type": "execute_result"
    }
   ],
   "source": [
    "# EXTRACTING NEXT 40 BRANDS NAME\n",
    "\n",
    "brands_tagl = driver.find_elements(By.XPATH,'//div[@class=\"_2WkVRV\"]')\n",
    "len(brands_tagl)"
   ]
  },
  {
   "cell_type": "code",
   "execution_count": 168,
   "id": "f28f3410",
   "metadata": {
    "collapsed": true
   },
   "outputs": [
    {
     "data": {
      "text/plain": [
       "['D-SNEAKERZ',\n",
       " 'BRUTON',\n",
       " 'aadi',\n",
       " 'HOTSTYLE',\n",
       " 'Noztile',\n",
       " 'BRUTON',\n",
       " 'KNIGHT WALKERS',\n",
       " 'GUSTO',\n",
       " 'Dizzler',\n",
       " 'PUMA',\n",
       " 'Rzisbo',\n",
       " 'ZF Klub',\n",
       " 'DUKE',\n",
       " 'ASTEROID',\n",
       " 'Magnolia',\n",
       " 'T-ROCK',\n",
       " 'PUMA',\n",
       " 'WHITE WALKERS',\n",
       " 'AMICO',\n",
       " 'LOUIS PHILIPPE',\n",
       " 'aadi',\n",
       " 'Airland',\n",
       " 'Shoes Bank',\n",
       " 'KNIGHT WALKERS',\n",
       " 'Airland',\n",
       " 'SPARX',\n",
       " 'Chevit',\n",
       " 'Scull Wings',\n",
       " 'Numenzo',\n",
       " 'LE GREEM',\n",
       " 'luxury fashion',\n",
       " 'Bacan',\n",
       " 'India hub',\n",
       " 'Stinson',\n",
       " 'ADIDAS ORIGINALS',\n",
       " 'HOTSTYLE',\n",
       " 'WHITE WALKERS',\n",
       " 'Numenzo',\n",
       " 'BIRDE',\n",
       " 'RapidBox']"
      ]
     },
     "execution_count": 168,
     "metadata": {},
     "output_type": "execute_result"
    }
   ],
   "source": [
    "brands_titlea = []\n",
    "\n",
    "for i in brands_tagl:\n",
    "    brands_titlea.append(i.text)\n",
    "    \n",
    "brands_titlea"
   ]
  },
  {
   "cell_type": "code",
   "execution_count": 170,
   "id": "82ddc2a9",
   "metadata": {
    "collapsed": true
   },
   "outputs": [
    {
     "data": {
      "text/plain": [
       "[<selenium.webdriver.remote.webelement.WebElement (session=\"84871e3b4024b87374ed45181929e6be\", element=\"a7ba66bf-2142-472c-9d5c-7734cb9575bb\")>,\n",
       " <selenium.webdriver.remote.webelement.WebElement (session=\"84871e3b4024b87374ed45181929e6be\", element=\"7203599b-d9d6-4ed6-a066-cbc294d1c1cf\")>,\n",
       " <selenium.webdriver.remote.webelement.WebElement (session=\"84871e3b4024b87374ed45181929e6be\", element=\"3a2b5e62-bacc-418d-b6a8-91f509b6197f\")>,\n",
       " <selenium.webdriver.remote.webelement.WebElement (session=\"84871e3b4024b87374ed45181929e6be\", element=\"924c07dd-4b53-4289-bcca-b88bd9fbdda4\")>,\n",
       " <selenium.webdriver.remote.webelement.WebElement (session=\"84871e3b4024b87374ed45181929e6be\", element=\"f56096cc-6f69-4ef6-aa88-be9006527aab\")>,\n",
       " <selenium.webdriver.remote.webelement.WebElement (session=\"84871e3b4024b87374ed45181929e6be\", element=\"25c84e9a-2d6d-40ed-9d6e-a667ad849dd5\")>,\n",
       " <selenium.webdriver.remote.webelement.WebElement (session=\"84871e3b4024b87374ed45181929e6be\", element=\"1465274a-3865-4c9d-a923-e0410d86b3b1\")>,\n",
       " <selenium.webdriver.remote.webelement.WebElement (session=\"84871e3b4024b87374ed45181929e6be\", element=\"b11b9b52-0168-4e66-ac74-b96b5b45393b\")>,\n",
       " <selenium.webdriver.remote.webelement.WebElement (session=\"84871e3b4024b87374ed45181929e6be\", element=\"d5a316db-db34-493c-a902-cb2906645505\")>,\n",
       " <selenium.webdriver.remote.webelement.WebElement (session=\"84871e3b4024b87374ed45181929e6be\", element=\"a1fc9dbe-4ac2-4bc6-8c60-de2315aa8825\")>,\n",
       " <selenium.webdriver.remote.webelement.WebElement (session=\"84871e3b4024b87374ed45181929e6be\", element=\"0b0f8aa7-be4b-4348-a742-27765674ed18\")>,\n",
       " <selenium.webdriver.remote.webelement.WebElement (session=\"84871e3b4024b87374ed45181929e6be\", element=\"ebe5585f-7367-45a2-90c4-d3993b81b10d\")>,\n",
       " <selenium.webdriver.remote.webelement.WebElement (session=\"84871e3b4024b87374ed45181929e6be\", element=\"1504d71a-c553-4263-984b-6a533f5f1af9\")>,\n",
       " <selenium.webdriver.remote.webelement.WebElement (session=\"84871e3b4024b87374ed45181929e6be\", element=\"6e9cb983-e9e7-47a4-bed9-3b3850339b97\")>,\n",
       " <selenium.webdriver.remote.webelement.WebElement (session=\"84871e3b4024b87374ed45181929e6be\", element=\"4902fb4e-af7a-461c-b5bd-9a4b3768e668\")>,\n",
       " <selenium.webdriver.remote.webelement.WebElement (session=\"84871e3b4024b87374ed45181929e6be\", element=\"20105e27-d710-4bf2-beb4-ccf9c2a80685\")>,\n",
       " <selenium.webdriver.remote.webelement.WebElement (session=\"84871e3b4024b87374ed45181929e6be\", element=\"bb76c532-db98-45e0-9a33-ce5ce7c4dfdf\")>,\n",
       " <selenium.webdriver.remote.webelement.WebElement (session=\"84871e3b4024b87374ed45181929e6be\", element=\"fff704c2-dbd9-473e-9b91-8cc30468a203\")>,\n",
       " <selenium.webdriver.remote.webelement.WebElement (session=\"84871e3b4024b87374ed45181929e6be\", element=\"5a3b9d60-6dea-48f5-ac49-61885130c8c4\")>,\n",
       " <selenium.webdriver.remote.webelement.WebElement (session=\"84871e3b4024b87374ed45181929e6be\", element=\"fe5dbf46-5e73-4cc6-b10a-fe054f6cc6d9\")>,\n",
       " <selenium.webdriver.remote.webelement.WebElement (session=\"84871e3b4024b87374ed45181929e6be\", element=\"74ab986a-55c6-42b8-bbf6-b46ebf3e325b\")>,\n",
       " <selenium.webdriver.remote.webelement.WebElement (session=\"84871e3b4024b87374ed45181929e6be\", element=\"bc134b5f-9b6c-4066-b1b7-184819ff9e79\")>,\n",
       " <selenium.webdriver.remote.webelement.WebElement (session=\"84871e3b4024b87374ed45181929e6be\", element=\"2fdba4d5-e04e-4ea6-abb7-178058ef68ca\")>,\n",
       " <selenium.webdriver.remote.webelement.WebElement (session=\"84871e3b4024b87374ed45181929e6be\", element=\"3c2e598d-23f0-4275-ade7-545a8e39a32f\")>,\n",
       " <selenium.webdriver.remote.webelement.WebElement (session=\"84871e3b4024b87374ed45181929e6be\", element=\"b0d8305a-dc7d-4111-9e2a-1d7f53413eef\")>,\n",
       " <selenium.webdriver.remote.webelement.WebElement (session=\"84871e3b4024b87374ed45181929e6be\", element=\"274557bf-29d2-42da-b481-ed0ce97bb773\")>,\n",
       " <selenium.webdriver.remote.webelement.WebElement (session=\"84871e3b4024b87374ed45181929e6be\", element=\"5ddc1d23-59f7-46f6-9704-c607d392859f\")>,\n",
       " <selenium.webdriver.remote.webelement.WebElement (session=\"84871e3b4024b87374ed45181929e6be\", element=\"7dcc2050-ac5c-4587-b2c9-f43fd3ab63e3\")>,\n",
       " <selenium.webdriver.remote.webelement.WebElement (session=\"84871e3b4024b87374ed45181929e6be\", element=\"9544889a-8301-49c1-a760-19deb44270e8\")>,\n",
       " <selenium.webdriver.remote.webelement.WebElement (session=\"84871e3b4024b87374ed45181929e6be\", element=\"17929ddc-f686-440a-8f4a-85ebb6c50228\")>,\n",
       " <selenium.webdriver.remote.webelement.WebElement (session=\"84871e3b4024b87374ed45181929e6be\", element=\"98dcd210-83a2-44e1-b78e-02bb5326bdc3\")>,\n",
       " <selenium.webdriver.remote.webelement.WebElement (session=\"84871e3b4024b87374ed45181929e6be\", element=\"3e053f5d-c851-42b6-91d4-18bd7037733d\")>,\n",
       " <selenium.webdriver.remote.webelement.WebElement (session=\"84871e3b4024b87374ed45181929e6be\", element=\"bd0513ae-eea5-47a0-8b76-7371b87c5db3\")>,\n",
       " <selenium.webdriver.remote.webelement.WebElement (session=\"84871e3b4024b87374ed45181929e6be\", element=\"3461941c-d018-4388-bf00-5d7fce059dc9\")>]"
      ]
     },
     "execution_count": 170,
     "metadata": {},
     "output_type": "execute_result"
    }
   ],
   "source": [
    "# EXTRACTING NEXT 40 PRODUCT DESCRIPTION \n",
    "# lets extraxt all web elements having PRODUCT DESCRIPTION\n",
    "\n",
    "prods_tagl = driver.find_elements(By.XPATH,'//a[@class=\"IRpwTa\"]')\n",
    "prods_tagl"
   ]
  },
  {
   "cell_type": "code",
   "execution_count": 171,
   "id": "3eb83f34",
   "metadata": {
    "collapsed": true
   },
   "outputs": [
    {
     "data": {
      "text/plain": [
       "[\"Casual , Partywear Sneakers Shoes For Men's And Boys Wh...\",\n",
       " 'Lattest Sneakers Shoe Sneakers For Men',\n",
       " 'Sneakers For Men',\n",
       " 'Mike Stylish & Trendy Sneakers For Men',\n",
       " 'Sneakers For Men',\n",
       " 'Lightweight Pack Of 1 Trendy Sneakers Sneakers For Men',\n",
       " 'SS1100 Sneakers For Men',\n",
       " 'Sneakers For Men',\n",
       " 'ST Activate V2 Sneakers For Men',\n",
       " 'Sneakers For Men',\n",
       " 'Sneakers For Men',\n",
       " 'Sneakers For Men',\n",
       " 'Original Luxury Branded Black Fancy Casual Walking Part...',\n",
       " 'Sneakers For Men',\n",
       " 'Stylish White Casual Walking Sneakers Shoes For Men and...',\n",
       " 'Puma Smash v2 L Sneakers For Men',\n",
       " 'Stylish & Trending Outdoor Walking Comfortable Sneakers...',\n",
       " 'Sneakers For Men',\n",
       " 'Sneakers For Men',\n",
       " 'Mesh | Ultralightweight | Comfortable | Breathable Walk...',\n",
       " '1259 smart black lace-ups sneakers for men Sneakers For...',\n",
       " \"White Sneaker For Men's/Boy's Sneakers For Men\",\n",
       " 'SS1100 Sneakers For Men',\n",
       " 'sneaker men red 1258 - 8 Sneakers For Men',\n",
       " \"Men's Combo Pack of 02 Shoes for Men Casual Sneakers Ou...\",\n",
       " 'Sneakers For Men',\n",
       " 'Comfortable & Ultra Light Weight Sneaker Sneakers For M...',\n",
       " 'Luxury Fashionable casual sneaker shoes Sneakers For Me...',\n",
       " 'Sneakers For Men',\n",
       " 'Luxury Fashionable casual sneaker shoes Sneakers For Me...',\n",
       " 'SUPERSTAR Sneakers For Men',\n",
       " 'Stylish & Trending Outdoor Walking Comfortable Sneakers...',\n",
       " '411 Casual Sneakers For Men',\n",
       " 'Stylish Comfortable Lightweight, Breathable Walking Sho...']"
      ]
     },
     "execution_count": 171,
     "metadata": {},
     "output_type": "execute_result"
    }
   ],
   "source": [
    "prods_titlea = []\n",
    "\n",
    "for i in prods_tagl:\n",
    "    prods_titlea.append(i.text)\n",
    "    \n",
    "prods_titlea"
   ]
  },
  {
   "cell_type": "code",
   "execution_count": 172,
   "id": "cf371207",
   "metadata": {},
   "outputs": [
    {
     "data": {
      "text/plain": [
       "40"
      ]
     },
     "execution_count": 172,
     "metadata": {},
     "output_type": "execute_result"
    }
   ],
   "source": [
    "# EXTRACTING THE  NEXT 40 PRICE\n",
    "# lets extraxt all web elements having PRICE\n",
    "\n",
    "pric_tagl = driver.find_elements(By.XPATH,'//a[@class=\"_3bPFwb\"]')\n",
    "len(pric_tagl)"
   ]
  },
  {
   "cell_type": "code",
   "execution_count": 173,
   "id": "c6469dfc",
   "metadata": {
    "collapsed": true
   },
   "outputs": [
    {
     "data": {
      "text/plain": [
       "['₹299₹65954% off\\n',\n",
       " '₹269₹1,29979% off\\n',\n",
       " '₹299₹99970% off',\n",
       " '₹299₹49940% off',\n",
       " '₹399₹1,99980% off\\n',\n",
       " '₹199₹59966% off\\n',\n",
       " '₹699₹1,99965% off\\n',\n",
       " '₹339₹99966% off\\n',\n",
       " '₹449₹71937% off',\n",
       " '₹1,504₹3,49957% off\\n',\n",
       " '₹464₹99953% off\\n',\n",
       " '₹399₹99960% off\\n',\n",
       " '₹1,318₹3,29560% off\\n',\n",
       " '₹474₹99952% off\\n',\n",
       " '₹449₹99955% off\\n',\n",
       " '₹498₹99950% off\\n',\n",
       " '₹2,036₹3,49941% off\\n',\n",
       " '₹599₹1,19950% off\\n',\n",
       " '₹494₹99950% off\\n',\n",
       " '₹2,399₹3,99940% off\\n',\n",
       " '₹799₹1,99960% off\\n',\n",
       " '₹239₹49952% off\\n',\n",
       " '₹298₹99970% off\\n',\n",
       " '₹699₹1,99965% off',\n",
       " '₹246₹49950% off\\n',\n",
       " '₹714₹84915% off\\n',\n",
       " '₹466₹1,09957% off\\n',\n",
       " '₹496₹1,29961% off\\n',\n",
       " '₹539₹2,99982% off\\n',\n",
       " '₹499₹99950% off\\n',\n",
       " '₹399₹1,29969% off\\n',\n",
       " '₹526₹99947% off\\n',\n",
       " '₹397₹1,99980% off\\n',\n",
       " '₹229₹49954% off',\n",
       " '₹3,849₹7,59949% off\\n',\n",
       " '₹195₹49960% off',\n",
       " '₹599₹1,19950% off\\n',\n",
       " '₹450₹1,99977% off\\n',\n",
       " '₹419₹99958% off\\n',\n",
       " '₹630₹99936% off']"
      ]
     },
     "execution_count": 173,
     "metadata": {},
     "output_type": "execute_result"
    }
   ],
   "source": [
    "pric_titlea = []\n",
    "\n",
    "for i in pric_tagl:\n",
    "    pric_titlea.append(i.text.replace('Free delivery',''))\n",
    "    \n",
    "pric_titlea"
   ]
  },
  {
   "cell_type": "code",
   "execution_count": 174,
   "id": "0119077d",
   "metadata": {},
   "outputs": [
    {
     "data": {
      "text/plain": [
       "<selenium.webdriver.remote.webelement.WebElement (session=\"84871e3b4024b87374ed45181929e6be\", element=\"97b54679-abcd-461a-9a2a-f7a1664a8a33\")>"
      ]
     },
     "execution_count": 174,
     "metadata": {},
     "output_type": "execute_result"
    }
   ],
   "source": [
    "nxt_butnss = driver.find_element(By.XPATH,\"/html/body/div/div/div[3]/div[1]/div[2]/div[12]/div/div/nav/a[12]/span\")\n",
    "nxt_butnss"
   ]
  },
  {
   "cell_type": "code",
   "execution_count": 175,
   "id": "f7cede62",
   "metadata": {},
   "outputs": [],
   "source": [
    "nxt_butnss.click()"
   ]
  },
  {
   "cell_type": "code",
   "execution_count": 176,
   "id": "e70a0831",
   "metadata": {},
   "outputs": [
    {
     "data": {
      "text/plain": [
       "40"
      ]
     },
     "execution_count": 176,
     "metadata": {},
     "output_type": "execute_result"
    }
   ],
   "source": [
    "# EXTRACTING NEXT 20 BRANDS NAME\n",
    "\n",
    "brnds_tagll = driver.find_elements(By.XPATH,'//div[@class=\"_2WkVRV\"]')\n",
    "len(brnds_tagll)"
   ]
  },
  {
   "cell_type": "code",
   "execution_count": 177,
   "id": "9d2caf53",
   "metadata": {
    "collapsed": true
   },
   "outputs": [
    {
     "data": {
      "text/plain": [
       "['ROCKFIELD',\n",
       " 'PEXLO',\n",
       " 'T-ROCK',\n",
       " 'HOTSTYLE',\n",
       " 'Robbie jones',\n",
       " 'KNIGHT WALKERS',\n",
       " 'PUMA',\n",
       " 'GUSTO',\n",
       " 'PUMA',\n",
       " 'aadi',\n",
       " 'Aragats',\n",
       " 'LOUIS PHILIPPE',\n",
       " 'Layasa',\n",
       " 'WHITE WALKERS',\n",
       " 'URBANBOX',\n",
       " 'KNIGHT WALKERS',\n",
       " 'Eiffel',\n",
       " 'Roadster',\n",
       " 'Xtoon',\n",
       " 'Scull Wings']"
      ]
     },
     "execution_count": 177,
     "metadata": {},
     "output_type": "execute_result"
    }
   ],
   "source": [
    "brnds_titleaa = []\n",
    "\n",
    "for i in brnds_tagll:\n",
    "    brnds_titleaa.append(i.text)\n",
    "    \n",
    "brnds_titleaa[0:20]"
   ]
  },
  {
   "cell_type": "code",
   "execution_count": 178,
   "id": "9084cbb6",
   "metadata": {},
   "outputs": [
    {
     "data": {
      "text/plain": [
       "30"
      ]
     },
     "execution_count": 178,
     "metadata": {},
     "output_type": "execute_result"
    }
   ],
   "source": [
    "# EXTRACTING NEXT 20 PRODUCT DESCRIPTION \n",
    "# lets extraxt all web elements having PRODUCT DESCRIPTION\n",
    "\n",
    "produ_tagll = driver.find_elements(By.XPATH,'//a[@class=\"IRpwTa\"]')\n",
    "len(produ_tagll)"
   ]
  },
  {
   "cell_type": "code",
   "execution_count": 179,
   "id": "54bab29c",
   "metadata": {
    "collapsed": true
   },
   "outputs": [
    {
     "data": {
      "text/plain": [
       "['Sneakers For Men',\n",
       " 'Combo Pack of 3 Casual Shoes Sneakers For Men',\n",
       " 'Stylish Party Wear Casual Sneakers Shoes For Men Sneake...',\n",
       " 'Mike Stylish & Trendy Sneakers For Men',\n",
       " 'Casual Sneakers White Shoes For Men Sneakers For Men',\n",
       " 'Brave Sneakers For Men',\n",
       " 'Sneakers For Men',\n",
       " 'Blend Sneakers For Men',\n",
       " 'Sneakers For Men',\n",
       " 'Casual Sneakers For Men',\n",
       " 'Sneakers For Men',\n",
       " 'Sneakers For Men',\n",
       " 'Stylish & Trending Outdoor Walking Comfortable Sneakers...',\n",
       " 'SS1100 Sneakers For Men',\n",
       " 'Sneakers For Men',\n",
       " \"White casual, gym,training & Running sneakers for men's...\",\n",
       " 'Combo Pack of 3 Casual Shoes, Sneakers For Men',\n",
       " 'Sneakers For Men',\n",
       " 'Sneakers For Men',\n",
       " 'Sneakers For Men']"
      ]
     },
     "execution_count": 179,
     "metadata": {},
     "output_type": "execute_result"
    }
   ],
   "source": [
    "produ_titleaa = []\n",
    "\n",
    "for i in produ_tagll:\n",
    "    produ_titleaa.append(i.text)\n",
    "    \n",
    "produ_titleaa[0:20]"
   ]
  },
  {
   "cell_type": "code",
   "execution_count": 180,
   "id": "aede12d7",
   "metadata": {},
   "outputs": [
    {
     "data": {
      "text/plain": [
       "40"
      ]
     },
     "execution_count": 180,
     "metadata": {},
     "output_type": "execute_result"
    }
   ],
   "source": [
    "# EXTRACTING THE  NEXT 20 PRICE\n",
    "# lets extraxt all web elements having PRICE\n",
    "\n",
    "price_tagll = driver.find_elements(By.XPATH,'//a[@class=\"_3bPFwb\"]')\n",
    "len(price_tagll)"
   ]
  },
  {
   "cell_type": "code",
   "execution_count": 182,
   "id": "d3a22f62",
   "metadata": {
    "collapsed": true
   },
   "outputs": [
    {
     "data": {
      "text/plain": [
       "['₹284₹99971% off\\n',\n",
       " '₹670₹1,49755% off\\n',\n",
       " '₹699₹99930% off\\n',\n",
       " '₹299₹49940% off',\n",
       " '₹499₹99950% off\\n',\n",
       " '₹699₹1,99965% off',\n",
       " '₹1,418₹3,29957% off\\n',\n",
       " '₹339₹99966% off\\n',\n",
       " '₹1,709₹2,99943% off\\n',\n",
       " '₹399₹1,99980% off\\n',\n",
       " '₹549₹99945% off\\n',\n",
       " '₹2,399₹3,99940% off\\n',\n",
       " '₹399₹99960% off\\n',\n",
       " '₹599₹1,19850% off\\n',\n",
       " '₹179₹49964% off',\n",
       " '₹699₹1,99965% off',\n",
       " '₹438₹99956% off\\n',\n",
       " '₹1,135₹3,29965% off\\n',\n",
       " '₹499₹99950% off\\n',\n",
       " '₹496₹1,29961% off\\n']"
      ]
     },
     "execution_count": 182,
     "metadata": {},
     "output_type": "execute_result"
    }
   ],
   "source": [
    "price_titleaa = []\n",
    "\n",
    "for i in price_tagll:\n",
    "    price_titleaa.append(i.text.replace('Free delivery',''))\n",
    "    \n",
    "price_titleaa[0:20]"
   ]
  },
  {
   "cell_type": "code",
   "execution_count": null,
   "id": "4f564ebe",
   "metadata": {},
   "outputs": [],
   "source": []
  },
  {
   "cell_type": "markdown",
   "id": "563c00b5",
   "metadata": {},
   "source": [
    "# Q7)-  Scrape First 100 shoes data "
   ]
  },
  {
   "cell_type": "code",
   "execution_count": 189,
   "id": "d8cac815",
   "metadata": {},
   "outputs": [],
   "source": [
    "\n",
    "url = \"http://www.myntra.com/shoes\"\n",
    "driver.get(url)"
   ]
  },
  {
   "cell_type": "code",
   "execution_count": null,
   "id": "c7f8c0da",
   "metadata": {},
   "outputs": [],
   "source": [
    "fil_p = driver.find_element(By.XPATH,\"\")\n",
    "fil_p"
   ]
  },
  {
   "cell_type": "code",
   "execution_count": null,
   "id": "0d7c2845",
   "metadata": {},
   "outputs": [],
   "source": [
    "# this site not going to give permission to inspect may be because it not accepting the right click"
   ]
  },
  {
   "cell_type": "code",
   "execution_count": null,
   "id": "b4c6b26b",
   "metadata": {},
   "outputs": [],
   "source": []
  },
  {
   "cell_type": "code",
   "execution_count": null,
   "id": "824d340e",
   "metadata": {},
   "outputs": [],
   "source": []
  },
  {
   "cell_type": "markdown",
   "id": "27bdfd03",
   "metadata": {},
   "source": [
    "# Q8)-Scrape first 10 laptops data"
   ]
  },
  {
   "cell_type": "code",
   "execution_count": 5,
   "id": "5a2dbb45",
   "metadata": {},
   "outputs": [],
   "source": [
    "url = \"https://www.amazon.in/\"\n",
    "driver.get(url)"
   ]
  },
  {
   "cell_type": "code",
   "execution_count": 6,
   "id": "73cd6ca3",
   "metadata": {},
   "outputs": [
    {
     "data": {
      "text/plain": [
       "<selenium.webdriver.remote.webelement.WebElement (session=\"20e10de30b304d5bc8a155f2450a1ff9\", element=\"82be6f0d-46da-45c9-b3bf-a9d30c3dbb0f\")>"
      ]
     },
     "execution_count": 6,
     "metadata": {},
     "output_type": "execute_result"
    }
   ],
   "source": [
    "sea_lap = driver.find_element(By.XPATH,\"/html/body/div[1]/header/div/div[1]/div[2]/div/form/div[2]/div[1]/input\")\n",
    "sea_lap"
   ]
  },
  {
   "cell_type": "code",
   "execution_count": 7,
   "id": "581fe6ca",
   "metadata": {},
   "outputs": [],
   "source": [
    "sea_lap.send_keys(\"Laptop\")"
   ]
  },
  {
   "cell_type": "code",
   "execution_count": 8,
   "id": "d99c21e6",
   "metadata": {},
   "outputs": [
    {
     "data": {
      "text/plain": [
       "<selenium.webdriver.remote.webelement.WebElement (session=\"20e10de30b304d5bc8a155f2450a1ff9\", element=\"f07b54e0-fbc6-4f16-b978-05d8a0f02eda\")>"
      ]
     },
     "execution_count": 8,
     "metadata": {},
     "output_type": "execute_result"
    }
   ],
   "source": [
    "sea_button = driver.find_element(By.XPATH,\"/html/body/div[1]/header/div/div[1]/div[2]/div/form/div[3]/div/span/input\")\n",
    "sea_button"
   ]
  },
  {
   "cell_type": "code",
   "execution_count": 9,
   "id": "ab1d4604",
   "metadata": {},
   "outputs": [],
   "source": [
    "sea_button.click()"
   ]
  },
  {
   "cell_type": "code",
   "execution_count": 11,
   "id": "9b480025",
   "metadata": {},
   "outputs": [
    {
     "data": {
      "text/plain": [
       "<selenium.webdriver.remote.webelement.WebElement (session=\"20e10de30b304d5bc8a155f2450a1ff9\", element=\"6191e26f-9d93-468e-8679-a5515b5deeba\")>"
      ]
     },
     "execution_count": 11,
     "metadata": {},
     "output_type": "execute_result"
    }
   ],
   "source": [
    "filt_cpu = driver.find_element(By.XPATH,\"/html/body/div[1]/div[2]/div[1]/div[2]/div/div[3]/span/div[1]/div/div/div[6]/ul[4]/li[13]/span/a/div/label/i\")\n",
    "filt_cpu"
   ]
  },
  {
   "cell_type": "code",
   "execution_count": 12,
   "id": "ca7e762a",
   "metadata": {},
   "outputs": [],
   "source": [
    "filt_cpu.click()"
   ]
  },
  {
   "cell_type": "code",
   "execution_count": 13,
   "id": "85894779",
   "metadata": {},
   "outputs": [
    {
     "data": {
      "text/plain": [
       "24"
      ]
     },
     "execution_count": 13,
     "metadata": {},
     "output_type": "execute_result"
    }
   ],
   "source": [
    "# extracting the TITLE\n",
    "\n",
    "title = driver.find_elements(By.XPATH,'//div[@class=\"a-section a-spacing-none s-padding-right-small s-title-instructions-style\"]')\n",
    "len(title)"
   ]
  },
  {
   "cell_type": "code",
   "execution_count": 14,
   "id": "b59efcd1",
   "metadata": {},
   "outputs": [
    {
     "data": {
      "text/plain": [
       "['ASUS TUF Gaming F15 (2021), 15.6\" (39.62 cms) FHD 144Hz, Intel Core i7-11600H 11th Gen, 4GB RTX 3050 Graphics, Gaming Laptop (16GB/512GB SSD/Windows 10/Office 2019/Gray/2.3 Kg), FX566HCB-HN299TS',\n",
       " 'Hp Pavilion 15 12Th Gen Intel Core I7 16Gb Sdram/1Tb Ssd 15.6 Inches (39.6Cm) Fhd,IPS/Intel Iris Xe Graphics/B&O/Windows 11 Home/Alexa/Backlit Kb/Fpr/Mso 2021/1.75Kg, 15-Eg2039Tu, Natural Silver',\n",
       " 'Lenovo ThinkBook 15 Intel 11th Gen Core i7 15.6\"(39.62 cm)FHD Thin and Light Laptop (16GB/512GB SSD/Windows 11 Home/MS Office H&S 2021/Iris® Xe Graphics/Backlit/Mineral Grey/1.7 Kg) 20VE00W4IH',\n",
       " 'Hp Pavilion X360 11Th Gen Intel Core I7 14 Inches Fhd Multitouch 2In1 Laptop (16Gb Ram/512Gb Ssd/B&O/Windows 11 Home/Fpr/Backlit Kb/Intel Iris Xe Graphics/Pen/Alexa/Ms Office/Silver/1.52Kg)14-Dy1047Tu',\n",
       " 'Samsung Galaxy Book2 Intel 12th Gen core i7 39.6cm (15.6\") FHD LED Thin & Light Laptop (16 GB/512 GB SSD/Windows 11/MS Office/Backlit Keyboard/Fingerprint Reader/Silver/1.55Kg), NP750XED-KC2IN',\n",
       " 'HP Envy 11th Gen Intel Evo Core i7 14 inch(35.6 cm) WUXGA Anti-Glare Display 2-in-1 Laptop(16GB RAM/1TB SSD/GTX 1650 4GB Graphics/400 nits/Win 11/MS Office/FPR/B&O/Alexa Built-in/1.59 Kg), 14-eb0021TX',\n",
       " 'ASUS Vivobook 15, 15.6-inch (39.62 cms) FHD, Intel Core i7-1065G7 10th Gen, Thin and Light Laptop (16GB/512GB SSD/Iris Plus Graphics/Windows 11/Office 2021/Silver/1.8 kg), X515JA-EJ701WS',\n",
       " 'LG Gram 16 Intel Evo 11th Gen i7 Thin & Light Laptop 2K+ IPS 16:10 Display [16 GB RAM/ 512 GB SSD/ Windows 11 / Iris Xe Graphics/ Thunderbolt 4, USC -C x 2 / 1.19 kg, Black/ 3Yr Warranty] 16Z90P',\n",
       " 'HP Pavilion 14 12th Gen Intel Core i7 16GB SDRAM/1TB SSD 14 inch(35.6cm) FHD,IPS,Micro-Edge Display/Intel UHD Graphics/B&O/Win 11/Alexa Built-in/Backlit KB/FPR/MSO 2021/Natural Silver, 14-dv2015TU',\n",
       " 'Lenovo Yoga 7 Intel Evo Core i7 11th Gen 14\"(35.56cm) FHD IPS 2-in-1 Convertible Touchscreen Laptop(16GB/512GB SSD/Win11/Office/Digital Pen/3Yr Warranty/Slate Grey/Aluminium Surface/1.43Kg),82BH00HWIN']"
      ]
     },
     "execution_count": 14,
     "metadata": {},
     "output_type": "execute_result"
    }
   ],
   "source": [
    "title_lap = []\n",
    "\n",
    "for i in title:\n",
    "    title_lap.append(i.text)\n",
    "    \n",
    "title_lap[0:10]"
   ]
  },
  {
   "cell_type": "code",
   "execution_count": 15,
   "id": "8efe73ba",
   "metadata": {},
   "outputs": [
    {
     "data": {
      "text/plain": [
       "24"
      ]
     },
     "execution_count": 15,
     "metadata": {},
     "output_type": "execute_result"
    }
   ],
   "source": [
    "# extracting the PRICE\n",
    "\n",
    "price = driver.find_elements(By.XPATH,'//span[@class=\"a-price\"]')\n",
    "len(price)"
   ]
  },
  {
   "cell_type": "code",
   "execution_count": 16,
   "id": "661efcce",
   "metadata": {},
   "outputs": [
    {
     "data": {
      "text/plain": [
       "['₹89,990',\n",
       " '₹87,900',\n",
       " '₹86,990',\n",
       " '₹82,990',\n",
       " '₹79,990',\n",
       " '₹99,400',\n",
       " '₹57,890',\n",
       " '₹85,499',\n",
       " '₹86,990',\n",
       " '₹97,649']"
      ]
     },
     "execution_count": 16,
     "metadata": {},
     "output_type": "execute_result"
    }
   ],
   "source": [
    "price_list = []\n",
    "\n",
    "for i in price:\n",
    "    price_list.append(i.text)\n",
    "    \n",
    "price_list[0:10]"
   ]
  },
  {
   "cell_type": "code",
   "execution_count": 17,
   "id": "b5e78b0f",
   "metadata": {},
   "outputs": [
    {
     "data": {
      "text/plain": [
       "22"
      ]
     },
     "execution_count": 17,
     "metadata": {},
     "output_type": "execute_result"
    }
   ],
   "source": [
    "# extracting the RATING\n",
    "\n",
    "rating = driver.find_elements(By.XPATH,'//span[@class=\"a-icon-alt\"]')\n",
    "len(rating)"
   ]
  },
  {
   "cell_type": "code",
   "execution_count": 18,
   "id": "de7a1044",
   "metadata": {},
   "outputs": [
    {
     "data": {
      "text/plain": [
       "['', '', '', '', '', '', '', '', '', '']"
      ]
     },
     "execution_count": 18,
     "metadata": {},
     "output_type": "execute_result"
    }
   ],
   "source": [
    "rat_list = []\n",
    "\n",
    "for i in rating:\n",
    "    rat_list.append(i.text)\n",
    "    \n",
    "rat_list[0:10]"
   ]
  },
  {
   "cell_type": "code",
   "execution_count": null,
   "id": "2d61fe83",
   "metadata": {},
   "outputs": [],
   "source": []
  },
  {
   "cell_type": "code",
   "execution_count": null,
   "id": "4e1edba9",
   "metadata": {},
   "outputs": [],
   "source": []
  },
  {
   "cell_type": "markdown",
   "id": "305e0c9f",
   "metadata": {},
   "source": [
    "# Q9)-Write a python program to scrape data for first 10 job results for Data Scientist Designation in Noida\n"
   ]
  },
  {
   "cell_type": "code",
   "execution_count": 506,
   "id": "3027fd0f",
   "metadata": {},
   "outputs": [],
   "source": [
    "url = \"http://www.ambitionbox.com/\"\n",
    "driver.get(url)"
   ]
  },
  {
   "cell_type": "code",
   "execution_count": 507,
   "id": "4d9dc8bf",
   "metadata": {},
   "outputs": [
    {
     "data": {
      "text/plain": [
       "<selenium.webdriver.remote.webelement.WebElement (session=\"d898df33fc1a366dab64ceff57957d1e\", element=\"b0cddf8a-642c-4a7d-9469-5f5a3fbd648e\")>"
      ]
     },
     "execution_count": 507,
     "metadata": {},
     "output_type": "execute_result"
    }
   ],
   "source": [
    "job_b = driver.find_element(By.XPATH,\"/html/body/footer/div[1]/div[3]/ul/li[4]/a\")\n",
    "job_b"
   ]
  },
  {
   "cell_type": "code",
   "execution_count": 508,
   "id": "a025c9cf",
   "metadata": {},
   "outputs": [],
   "source": [
    "job_b.click()"
   ]
  },
  {
   "cell_type": "code",
   "execution_count": 509,
   "id": "13f75ed2",
   "metadata": {},
   "outputs": [
    {
     "data": {
      "text/plain": [
       "<selenium.webdriver.remote.webelement.WebElement (session=\"d898df33fc1a366dab64ceff57957d1e\", element=\"3c192115-0c85-48b2-a23d-95a4b6e4c7c4\")>"
      ]
     },
     "execution_count": 509,
     "metadata": {},
     "output_type": "execute_result"
    }
   ],
   "source": [
    "search_desig = driver.find_element(By.XPATH,\"/html/body/div/div/div/div[2]/div[1]/div[1]/div/div/div/div/span/input\")\n",
    "search_desig"
   ]
  },
  {
   "cell_type": "code",
   "execution_count": 510,
   "id": "ffd3fc48",
   "metadata": {},
   "outputs": [],
   "source": [
    "search_desig.send_keys(\"Data Scientist\")"
   ]
  },
  {
   "cell_type": "code",
   "execution_count": 511,
   "id": "50cfe561",
   "metadata": {},
   "outputs": [
    {
     "data": {
      "text/plain": [
       "<selenium.webdriver.remote.webelement.WebElement (session=\"d898df33fc1a366dab64ceff57957d1e\", element=\"5704ee8e-8556-4a60-b6a6-f2289182cd58\")>"
      ]
     },
     "execution_count": 511,
     "metadata": {},
     "output_type": "execute_result"
    }
   ],
   "source": [
    "search_op = driver.find_element(By.XPATH,\"/html/body/div/div/div/div[2]/div[1]/div[1]/div/div/div/button\")\n",
    "search_op"
   ]
  },
  {
   "cell_type": "code",
   "execution_count": 512,
   "id": "82984efe",
   "metadata": {},
   "outputs": [],
   "source": [
    "search_op.click()"
   ]
  },
  {
   "cell_type": "code",
   "execution_count": 513,
   "id": "9ce0ce65",
   "metadata": {},
   "outputs": [
    {
     "data": {
      "text/plain": [
       "<selenium.webdriver.remote.webelement.WebElement (session=\"d898df33fc1a366dab64ceff57957d1e\", element=\"2d88946d-79b0-43dd-baf1-1400112661cf\")>"
      ]
     },
     "execution_count": 513,
     "metadata": {},
     "output_type": "execute_result"
    }
   ],
   "source": [
    "open_loc = driver.find_element(By.XPATH,\"/html/body/div/div/div/div[2]/div[1]/div[2]/div[1]/div/div/div/div[2]/div[1]/p\")\n",
    "open_loc"
   ]
  },
  {
   "cell_type": "code",
   "execution_count": 514,
   "id": "ca7bdf18",
   "metadata": {},
   "outputs": [],
   "source": [
    "open_loc.click()"
   ]
  },
  {
   "cell_type": "code",
   "execution_count": 515,
   "id": "48d9873c",
   "metadata": {},
   "outputs": [
    {
     "data": {
      "text/plain": [
       "<selenium.webdriver.remote.webelement.WebElement (session=\"d898df33fc1a366dab64ceff57957d1e\", element=\"589e4f3b-3647-4841-8aee-057487f5911b\")>"
      ]
     },
     "execution_count": 515,
     "metadata": {},
     "output_type": "execute_result"
    }
   ],
   "source": [
    "sel_loc = driver.find_element(By.XPATH,\"/html/body/div/div/div/div[2]/div[1]/div[2]/div[1]/div/div/div/div[2]/div[2]/div/div[2]/input\")\n",
    "sel_loc"
   ]
  },
  {
   "cell_type": "code",
   "execution_count": 516,
   "id": "69815e8a",
   "metadata": {},
   "outputs": [],
   "source": [
    "sel_loc.send_keys(\"Noida\")"
   ]
  },
  {
   "cell_type": "code",
   "execution_count": 517,
   "id": "6d47820b",
   "metadata": {},
   "outputs": [
    {
     "data": {
      "text/plain": [
       "<selenium.webdriver.remote.webelement.WebElement (session=\"d898df33fc1a366dab64ceff57957d1e\", element=\"91a98ee1-5852-4ce1-bfc7-b3b081c360c4\")>"
      ]
     },
     "execution_count": 517,
     "metadata": {},
     "output_type": "execute_result"
    }
   ],
   "source": [
    "sel_loca = driver.find_element(By.XPATH,\"/html/body/div/div/div/div[2]/div[1]/div[2]/div[1]/div/div/div/div[2]/div[2]/div/div[3]/div[1]/div[1]/div/label\")\n",
    "sel_loca"
   ]
  },
  {
   "cell_type": "code",
   "execution_count": 518,
   "id": "185b6117",
   "metadata": {},
   "outputs": [],
   "source": [
    "sel_loca.click()"
   ]
  },
  {
   "cell_type": "code",
   "execution_count": 519,
   "id": "fce44be8",
   "metadata": {},
   "outputs": [
    {
     "data": {
      "text/plain": [
       "10"
      ]
     },
     "execution_count": 519,
     "metadata": {},
     "output_type": "execute_result"
    }
   ],
   "source": [
    "# EXTRACTING COMPANY NAMES\n",
    "\n",
    "comp = driver.find_elements(By.XPATH,'//a[@class=\"title noclick\"]')\n",
    "len(comp)"
   ]
  },
  {
   "cell_type": "code",
   "execution_count": 411,
   "id": "01743b43",
   "metadata": {
    "collapsed": true
   },
   "outputs": [
    {
     "data": {
      "text/plain": [
       "['Senior Data Scientist',\n",
       " 'Data Scientist- Forecasting and R or Python',\n",
       " 'Data Scientist - Machine Learning Algorithms (3-8 yrs)',\n",
       " 'Data Scientist - Machine Learning/Big Data (0-4 yrs)',\n",
       " 'Info Edge - Data Scientist - Machine Learning/NLP (0-2 yrs)',\n",
       " 'Info Edge - Senior Data Scientist - Machine Learning/Deep Learning (3-5 yrs)',\n",
       " 'LatentBridge - Data Scientist - Python/R (2-6 yrs)',\n",
       " 'Data Science Trainer | AI | Machine Learning | Python |',\n",
       " 'Principal Scientist - Machine Learning - IT (15-26 yrs)',\n",
       " 'Data Scientist - NLP']"
      ]
     },
     "execution_count": 411,
     "metadata": {},
     "output_type": "execute_result"
    }
   ],
   "source": [
    "comp_list = []\n",
    "\n",
    "for i in comp:\n",
    "    comp_list.append(i.text)\n",
    "    \n",
    "comp_list"
   ]
  },
  {
   "cell_type": "code",
   "execution_count": 414,
   "id": "df19be42",
   "metadata": {},
   "outputs": [
    {
     "data": {
      "text/plain": [
       "20"
      ]
     },
     "execution_count": 414,
     "metadata": {},
     "output_type": "execute_result"
    }
   ],
   "source": [
    "# EXTRACTING NO OF DAYS AGO JOB WAS POSTED\n",
    "\n",
    "job_p = driver.find_elements(By.XPATH,'//span[@class=\"body-small-l\"]')\n",
    "len(job_p)"
   ]
  },
  {
   "cell_type": "code",
   "execution_count": 426,
   "id": "86725d35",
   "metadata": {
    "collapsed": true
   },
   "outputs": [
    {
     "data": {
      "text/plain": [
       "['8d',\n",
       " '',\n",
       " '15d',\n",
       " '',\n",
       " '6d',\n",
       " '',\n",
       " '13d',\n",
       " '',\n",
       " '14d',\n",
       " '',\n",
       " '14d',\n",
       " '',\n",
       " '14d',\n",
       " '',\n",
       " '1d',\n",
       " '',\n",
       " '28d',\n",
       " '',\n",
       " '14d',\n",
       " '']"
      ]
     },
     "execution_count": 426,
     "metadata": {},
     "output_type": "execute_result"
    }
   ],
   "source": [
    "jobp_list = []\n",
    "\n",
    "for i in job_p:\n",
    "    jobp_list.append(i.text.split()[0].replace(\"via\",''))\n",
    "    \n",
    "jobp_list"
   ]
  },
  {
   "cell_type": "code",
   "execution_count": 427,
   "id": "6362094a",
   "metadata": {},
   "outputs": [
    {
     "data": {
      "text/plain": [
       "10"
      ]
     },
     "execution_count": 427,
     "metadata": {},
     "output_type": "execute_result"
    }
   ],
   "source": [
    "# EXTRACTING RATING OF THE COMPANY\n",
    "\n",
    "rat_p = driver.find_elements(By.XPATH,'//span[@class=\"body-small\"]')\n",
    "len(rat_p)"
   ]
  },
  {
   "cell_type": "code",
   "execution_count": 428,
   "id": "8b9a9fe6",
   "metadata": {},
   "outputs": [
    {
     "data": {
      "text/plain": [
       "['4.1', '4.0', '4.3', '3.9', '3.9', '3.9', '4.5', '3.8', '3.9', '3.8']"
      ]
     },
     "execution_count": 428,
     "metadata": {},
     "output_type": "execute_result"
    }
   ],
   "source": [
    "ratp_list = []\n",
    "\n",
    "for i in rat_p:\n",
    "    ratp_list.append(i.text)\n",
    "    \n",
    "ratp_list"
   ]
  },
  {
   "cell_type": "code",
   "execution_count": null,
   "id": "e4c74ed6",
   "metadata": {},
   "outputs": [],
   "source": []
  },
  {
   "cell_type": "code",
   "execution_count": null,
   "id": "0d46095a",
   "metadata": {},
   "outputs": [],
   "source": []
  },
  {
   "cell_type": "markdown",
   "id": "b63a801c",
   "metadata": {},
   "source": [
    "# # Q10:- Write a python program to scrape the salary data for Data Scientist designation."
   ]
  },
  {
   "cell_type": "code",
   "execution_count": 520,
   "id": "689bdd42",
   "metadata": {},
   "outputs": [],
   "source": [
    "url = \"http://www.ambitionbox.com/\"\n",
    "driver.get(url)"
   ]
  },
  {
   "cell_type": "code",
   "execution_count": 521,
   "id": "d6eb028b",
   "metadata": {},
   "outputs": [
    {
     "data": {
      "text/plain": [
       "<selenium.webdriver.remote.webelement.WebElement (session=\"d898df33fc1a366dab64ceff57957d1e\", element=\"42acad21-6d86-4ff0-b3a4-0dfb3541613a\")>"
      ]
     },
     "execution_count": 521,
     "metadata": {},
     "output_type": "execute_result"
    }
   ],
   "source": [
    "salary_d= driver.find_element(By.XPATH,\"/html/body/footer/div[1]/div[3]/ul/li[3]/a\")\n",
    "salary_d"
   ]
  },
  {
   "cell_type": "code",
   "execution_count": 522,
   "id": "85e56c52",
   "metadata": {},
   "outputs": [],
   "source": [
    "salary_d.click()"
   ]
  },
  {
   "cell_type": "code",
   "execution_count": 523,
   "id": "f541e87b",
   "metadata": {},
   "outputs": [
    {
     "data": {
      "text/plain": [
       "<selenium.webdriver.remote.webelement.WebElement (session=\"d898df33fc1a366dab64ceff57957d1e\", element=\"739d5f0b-8b9f-420c-91da-a3214d7dfdf6\")>"
      ]
     },
     "execution_count": 523,
     "metadata": {},
     "output_type": "execute_result"
    }
   ],
   "source": [
    "search_designas = driver.find_element(By.XPATH,\"/html/body/div/div/div/main/section[1]/div[2]/div[1]/span/input\")\n",
    "search_designas"
   ]
  },
  {
   "cell_type": "code",
   "execution_count": 524,
   "id": "097bf092",
   "metadata": {},
   "outputs": [],
   "source": [
    "search_designas.send_keys(\"Data Scientist\")"
   ]
  },
  {
   "cell_type": "code",
   "execution_count": 525,
   "id": "31f7abd3",
   "metadata": {},
   "outputs": [
    {
     "data": {
      "text/plain": [
       "10"
      ]
     },
     "execution_count": 525,
     "metadata": {},
     "output_type": "execute_result"
    }
   ],
   "source": [
    "# extracting the average salary\n",
    "\n",
    "avg_salary = driver.find_elements(By.XPATH,'//p[@class=\"averageCtc\"]')\n",
    "len(avg_salary)"
   ]
  },
  {
   "cell_type": "code",
   "execution_count": 526,
   "id": "c475354b",
   "metadata": {
    "collapsed": true
   },
   "outputs": [
    {
     "data": {
      "text/plain": [
       "['₹ 31.3L',\n",
       " '₹ 24.0L',\n",
       " '₹ 23.0L',\n",
       " '₹ 21.2L',\n",
       " '₹ 21.0L',\n",
       " '₹ 20.5L',\n",
       " '₹ 20.4L',\n",
       " '₹ 20.0L',\n",
       " '₹ 19.9L',\n",
       " '₹ 19.5L']"
      ]
     },
     "execution_count": 526,
     "metadata": {},
     "output_type": "execute_result"
    }
   ],
   "source": [
    "avg = []\n",
    "\n",
    "for i in avg_salary:\n",
    "    avg.append(i.text)\n",
    "    \n",
    "avg\n",
    "    "
   ]
  },
  {
   "cell_type": "code",
   "execution_count": 527,
   "id": "545a8d00",
   "metadata": {},
   "outputs": [
    {
     "data": {
      "text/plain": [
       "10"
      ]
     },
     "execution_count": 527,
     "metadata": {},
     "output_type": "execute_result"
    }
   ],
   "source": [
    "# extracting the min salary\n",
    "\n",
    "min_salary = driver.find_elements(By.XPATH,'//div[@class=\"salary-values\"]')\n",
    "len(min_salary)"
   ]
  },
  {
   "cell_type": "code",
   "execution_count": 528,
   "id": "e4e01cd2",
   "metadata": {
    "collapsed": true
   },
   "outputs": [
    {
     "data": {
      "text/plain": [
       "['₹ 11.0L',\n",
       " '₹ 13.0L',\n",
       " '₹ 12.0L',\n",
       " '₹ 12.0L',\n",
       " '₹ 8.0L\\n',\n",
       " '₹ 13.0L',\n",
       " '₹ 7.5L\\n',\n",
       " '₹ 11.4L',\n",
       " '₹ 11.0L',\n",
       " '₹ 14.0L']"
      ]
     },
     "execution_count": 528,
     "metadata": {},
     "output_type": "execute_result"
    }
   ],
   "source": [
    "mini = []\n",
    "\n",
    "for i in min_salary:\n",
    "    mini.append(i.text[0:7])\n",
    "    \n",
    "mini"
   ]
  },
  {
   "cell_type": "code",
   "execution_count": 529,
   "id": "7155e2dd",
   "metadata": {},
   "outputs": [
    {
     "data": {
      "text/plain": [
       "10"
      ]
     },
     "execution_count": 529,
     "metadata": {},
     "output_type": "execute_result"
    }
   ],
   "source": [
    "# extracting the max salary\n",
    "\n",
    "max_salary = driver.find_elements(By.XPATH,'//div[@class=\"salary-values\"]')\n",
    "len(max_salary)"
   ]
  },
  {
   "cell_type": "code",
   "execution_count": 530,
   "id": "fbb2a9d8",
   "metadata": {
    "collapsed": true
   },
   "outputs": [
    {
     "data": {
      "text/plain": [
       "['₹ 65.0L',\n",
       " '₹ 50.0L',\n",
       " '₹ 34.0L',\n",
       " '₹ 33.0L',\n",
       " ' 45.0L',\n",
       " '₹ 28.0L',\n",
       " ' 31.0L',\n",
       " '₹ 32.5L',\n",
       " '₹ 31.0L',\n",
       " '₹ 27.0L']"
      ]
     },
     "execution_count": 530,
     "metadata": {},
     "output_type": "execute_result"
    }
   ],
   "source": [
    "maxi = []\n",
    "\n",
    "for i in max_salary:\n",
    "    maxi.append(i.text[8:])\n",
    "    \n",
    "maxi"
   ]
  },
  {
   "cell_type": "code",
   "execution_count": 531,
   "id": "63f110bd",
   "metadata": {},
   "outputs": [
    {
     "data": {
      "text/plain": [
       "10"
      ]
     },
     "execution_count": 531,
     "metadata": {},
     "output_type": "execute_result"
    }
   ],
   "source": [
    "# extracting the experience\n",
    "\n",
    "ex_s = driver.find_elements(By.XPATH,'//div[@class=\"sbold-list-header\"]')\n",
    "len(ex_s)"
   ]
  },
  {
   "cell_type": "code",
   "execution_count": 534,
   "id": "6242ea18",
   "metadata": {
    "collapsed": true
   },
   "outputs": [
    {
     "data": {
      "text/plain": [
       "['3 yrs experience ',\n",
       " '3-4 yrs experienc',\n",
       " '2 yrs experience ',\n",
       " '3-4 yrs experienc',\n",
       " '3-4 yrs experienc',\n",
       " '2-4 yrs experienc',\n",
       " '2-4 yrs experienc',\n",
       " '2-4 yrs experienc',\n",
       " '3-4 yrs experienc',\n",
       " '2-4 yrs experienc']"
      ]
     },
     "execution_count": 534,
     "metadata": {},
     "output_type": "execute_result"
    }
   ],
   "source": [
    "exppp = []\n",
    "\n",
    "for i in ex_s:\n",
    "    exppp.append(i.text[0:17])\n",
    "    \n",
    "exppp"
   ]
  },
  {
   "cell_type": "code",
   "execution_count": 535,
   "id": "6519ea32",
   "metadata": {},
   "outputs": [
    {
     "data": {
      "text/plain": [
       "25"
      ]
     },
     "execution_count": 535,
     "metadata": {},
     "output_type": "execute_result"
    }
   ],
   "source": [
    "# EXTARCT THE COMPANY NAMES \n",
    "\n",
    "cmp_q = driver.find_elements(By.XPATH,'//div[@class=\"company-info\"]')\n",
    "len(cmp_q)"
   ]
  },
  {
   "cell_type": "code",
   "execution_count": 541,
   "id": "a543dcf2",
   "metadata": {
    "collapsed": true
   },
   "outputs": [
    {
     "data": {
      "text/plain": [
       "['Walmart\\n',\n",
       " 'Ab Inbev',\n",
       " 'ZS\\nData ',\n",
       " 'Optum\\nDa',\n",
       " 'Reliance',\n",
       " 'Fractal ',\n",
       " 'Tiger An',\n",
       " 'UnitedHe',\n",
       " 'EXL Serv',\n",
       " 'Deloitte']"
      ]
     },
     "execution_count": 541,
     "metadata": {},
     "output_type": "execute_result"
    }
   ],
   "source": [
    "expp = []\n",
    "\n",
    "for i in cmp_q:\n",
    "    expp.append(i.text[0:8])\n",
    "    \n",
    "expp[0:10]"
   ]
  },
  {
   "cell_type": "code",
   "execution_count": null,
   "id": "d5db3c95",
   "metadata": {},
   "outputs": [],
   "source": []
  }
 ],
 "metadata": {
  "kernelspec": {
   "display_name": "Python 3 (ipykernel)",
   "language": "python",
   "name": "python3"
  },
  "language_info": {
   "codemirror_mode": {
    "name": "ipython",
    "version": 3
   },
   "file_extension": ".py",
   "mimetype": "text/x-python",
   "name": "python",
   "nbconvert_exporter": "python",
   "pygments_lexer": "ipython3",
   "version": "3.9.7"
  }
 },
 "nbformat": 4,
 "nbformat_minor": 5
}
